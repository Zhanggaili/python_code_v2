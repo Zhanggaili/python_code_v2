{
 "cells": [
  {
   "cell_type": "code",
   "execution_count": 1,
   "metadata": {},
   "outputs": [
    {
     "name": "stdout",
     "output_type": "stream",
     "text": [
      "0         0.00\n",
      "1         0.00\n",
      "2         0.69\n",
      "3         0.00\n",
      "4         0.00\n",
      "5         0.00\n",
      "6         0.69\n",
      "7         0.00\n",
      "8         0.00\n",
      "9         0.00\n",
      "10        1.94\n",
      "11        0.00\n",
      "12        2.48\n",
      "13        3.13\n",
      "14        0.00\n",
      "15        0.69\n",
      "16        0.00\n",
      "17        0.00\n",
      "18        0.00\n",
      "19        0.69\n",
      "20        0.00\n",
      "21        0.00\n",
      "22        0.69\n",
      "23        0.00\n",
      "24        0.00\n",
      "25        0.00\n",
      "26        0.00\n",
      "27        0.00\n",
      "28        0.00\n",
      "29        0.00\n",
      "          ... \n",
      "153263    5.72\n",
      "153264    0.00\n",
      "153265    0.00\n",
      "153266    0.00\n",
      "153267    0.00\n",
      "153268    0.00\n",
      "153269    0.00\n",
      "153270    0.00\n",
      "153271    0.00\n",
      "153272    0.00\n",
      "153273    0.00\n",
      "153274    0.00\n",
      "153275    0.00\n",
      "153276    0.00\n",
      "153277    0.00\n",
      "153278    3.61\n",
      "153279    0.00\n",
      "153280    0.00\n",
      "153281    0.69\n",
      "153282    0.00\n",
      "153283    0.00\n",
      "153284    0.00\n",
      "153285    0.00\n",
      "153286    0.00\n",
      "153287    0.00\n",
      "153288    0.00\n",
      "153289    4.64\n",
      "153290    1.09\n",
      "153291    1.09\n",
      "153292    0.00\n",
      "Name: prediction_pay_price, Length: 153293, dtype: float64\n"
     ]
    }
   ],
   "source": [
    "import numpy as np\n",
    "import pandas as pd\n",
    "data_undersample = pd.read_csv(\"under_sample_data.csv\")\n",
    "data_undersample['prediction_pay_price'] = np.log(data_undersample['prediction_pay_price']+1)\n",
    "prediction_pay_list = []\n",
    "for i in range(data_undersample.shape[0]):\n",
    "    prediction_pay_list.append(float('%.2f' %data_undersample['prediction_pay_price'][i]))\n",
    "#print prediction_pay_list\n",
    "prediction_pay_df = pd.DataFrame(prediction_pay_list)\n",
    "data_undersample['prediction_pay_price'] = prediction_pay_df\n",
    "print data_undersample['prediction_pay_price']\n",
    "data_undersample.to_csv('under_sample_data_log.csv',index=None)"
   ]
  }
 ],
 "metadata": {
  "kernelspec": {
   "display_name": "Python 2",
   "language": "python",
   "name": "python2"
  },
  "language_info": {
   "codemirror_mode": {
    "name": "ipython",
    "version": 2
   },
   "file_extension": ".py",
   "mimetype": "text/x-python",
   "name": "python",
   "nbconvert_exporter": "python",
   "pygments_lexer": "ipython2",
   "version": "2.7.15"
  }
 },
 "nbformat": 4,
 "nbformat_minor": 2
}
