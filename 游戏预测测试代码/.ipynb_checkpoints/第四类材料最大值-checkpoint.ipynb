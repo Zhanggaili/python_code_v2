{
 "cells": [
  {
   "cell_type": "code",
   "execution_count": 1,
   "metadata": {},
   "outputs": [
    {
     "data": {
      "text/plain": [
       "((11309, 110), (2242019, 110))"
      ]
     },
     "execution_count": 1,
     "metadata": {},
     "output_type": "execute_result"
    }
   ],
   "source": [
    "from numpy import *\n",
    "import pandas as pd\n",
    "\n",
    "lable4 = pd.read_csv(\"lable4.csv\")\n",
    "lable1 = pd.read_csv(\"lable1.csv\")\n",
    "\n",
    "lable1.shape,lable4.shape"
   ]
  },
  {
   "cell_type": "code",
   "execution_count": 9,
   "metadata": {},
   "outputs": [
    {
     "data": {
      "text/plain": [
       "Index([u'user_id', u'register_time', u'wood_add_value', u'wood_reduce_value',\n",
       "       u'stone_add_value', u'stone_reduce_value', u'ivory_add_value',\n",
       "       u'ivory_reduce_value', u'meat_add_value', u'meat_reduce_value',\n",
       "       u'magic_add_value', u'magic_reduce_value', u'infantry_add_value',\n",
       "       u'infantry_reduce_value', u'cavalry_add_value', u'cavalry_reduce_value',\n",
       "       u'shaman_add_value', u'shaman_reduce_value',\n",
       "       u'wound_infantry_add_value', u'wound_infantry_reduce_value'],\n",
       "      dtype='object')"
      ]
     },
     "execution_count": 9,
     "metadata": {},
     "output_type": "execute_result"
    }
   ],
   "source": [
    "lable4.columns[:20]"
   ]
  },
  {
   "cell_type": "code",
   "execution_count": 2,
   "metadata": {},
   "outputs": [
    {
     "name": "stdout",
     "output_type": "stream",
     "text": [
      "Int64Index([2005099], dtype='int64') Int64Index([1909710], dtype='int64') Int64Index([1909710], dtype='int64') Int64Index([186887], dtype='int64')\n"
     ]
    }
   ],
   "source": [
    "a1 = lable4.wood_add_value[lable4.wood_add_value == lable4.wood_add_value.max()].index\n",
    "a2 = lable4.stone_add_value[lable4.stone_add_value == lable4.stone_add_value.max()].index\n",
    "a3 = lable4.ivory_add_value[lable4.ivory_add_value == lable4.ivory_add_value.max()].index\n",
    "a4 = lable4.meat_add_value[lable4.meat_add_value == lable4.meat_add_value.max()].index\n",
    "print a1,a2,a3,a4"
   ]
  },
  {
   "cell_type": "code",
   "execution_count": 4,
   "metadata": {},
   "outputs": [
    {
     "name": "stdout",
     "output_type": "stream",
     "text": [
      "158249380.0 132879785.0 127705203.0 1226861100.0 263722820.0\n"
     ]
    }
   ],
   "source": [
    "wood_max = lable4.wood_add_value.max()\n",
    "stone_max = lable4.stone_add_value.max()\n",
    "ivory_max = lable4.ivory_add_value.max()\n",
    "meat_max = lable4.meat_add_value.max()\n",
    "magic_max = lable4.magic_add_value.max()\n",
    "print wood_max,stone_max,ivory_max,meat_max,magic_max"
   ]
  },
  {
   "cell_type": "code",
   "execution_count": 9,
   "metadata": {},
   "outputs": [
    {
     "data": {
      "text/plain": [
       "((266, 110), (298, 110), (126, 110), (7, 110), (0, 110))"
      ]
     },
     "execution_count": 9,
     "metadata": {},
     "output_type": "execute_result"
    }
   ],
   "source": [
    "lable1_wood = lable1[(lable1.wood_add_value >wood_max)]\n",
    "lable1_stone = lable1[(lable1.stone_add_value >stone_max)]\n",
    "lable1_ivory = lable1[(lable1.ivory_add_value >ivory_max)]\n",
    "lable1_meat = lable1[(lable1.meat_add_value >meat_max)] \n",
    "lable1_magic = lable1[(lable1.magic_add_value >magic_max)] \n",
    "                    \n",
    "lable1_wood.shape,lable1_stone.shape,lable1_ivory.shape,lable1_meat.shape,lable1_magic.shape"
   ]
  },
  {
   "cell_type": "code",
   "execution_count": 14,
   "metadata": {},
   "outputs": [
    {
     "name": "stdout",
     "output_type": "stream",
     "text": [
      "count      266.000000\n",
      "mean      4317.815338\n",
      "std       4663.098852\n",
      "min        203.870000\n",
      "25%       1605.355000\n",
      "50%       2981.520000\n",
      "75%       5192.230000\n",
      "max      32977.810000\n",
      "Name: prediction_pay_price, dtype: float64\n",
      "count     266.000000\n",
      "mean     1316.449398\n",
      "std      1084.194569\n",
      "min       176.920000\n",
      "25%       616.850000\n",
      "50%       936.810000\n",
      "75%      1728.992500\n",
      "max      7457.950000\n",
      "Name: pay_price, dtype: float64\n",
      "count      298.000000\n",
      "mean      4122.465537\n",
      "std       4515.141985\n",
      "min        203.870000\n",
      "25%       1565.830000\n",
      "50%       2814.915000\n",
      "75%       5042.110000\n",
      "max      32977.810000\n",
      "Name: prediction_pay_price, dtype: float64\n",
      "count     298.000000\n",
      "mean     1235.244933\n",
      "std      1054.706311\n",
      "min       176.920000\n",
      "25%       568.117500\n",
      "50%       851.800000\n",
      "75%      1591.765000\n",
      "max      7457.950000\n",
      "Name: pay_price, dtype: float64\n",
      "count      126.00000\n",
      "mean      6248.39373\n",
      "std       5618.66260\n",
      "min        806.79000\n",
      "25%       2887.40250\n",
      "50%       4712.19000\n",
      "75%       7236.73250\n",
      "max      32977.81000\n",
      "Name: prediction_pay_price, dtype: float64\n",
      "count     126.000000\n",
      "mean     2000.394127\n",
      "std      1213.672380\n",
      "min       531.820000\n",
      "25%      1222.652500\n",
      "50%      1763.620000\n",
      "75%      2387.867500\n",
      "max      7457.950000\n",
      "Name: pay_price, dtype: float64\n",
      "count        7.000000\n",
      "mean     10762.364286\n",
      "std       7920.972997\n",
      "min       2090.440000\n",
      "25%       5414.415000\n",
      "50%       8155.570000\n",
      "75%      15693.340000\n",
      "max      22875.030000\n",
      "Name: prediction_pay_price, dtype: float64\n",
      "count       7.000000\n",
      "mean     3419.077143\n",
      "std      1400.467556\n",
      "min      2065.470000\n",
      "25%      2630.465000\n",
      "50%      3246.430000\n",
      "75%      3553.365000\n",
      "max      6253.980000\n",
      "Name: pay_price, dtype: float64\n"
     ]
    }
   ],
   "source": [
    "print lable1_wood.prediction_pay_price.describe()\n",
    "print lable1_wood.pay_price.describe()\n",
    "print lable1_stone.prediction_pay_price.describe()\n",
    "print lable1_stone.pay_price.describe()\n",
    "print lable1_ivory.prediction_pay_price.describe()\n",
    "print lable1_ivory.pay_price.describe()\n",
    "print lable1_meat.prediction_pay_price.describe()\n",
    "print lable1_meat.pay_price.describe()"
   ]
  }
 ],
 "metadata": {
  "kernelspec": {
   "display_name": "Python 2",
   "language": "python",
   "name": "python2"
  },
  "language_info": {
   "codemirror_mode": {
    "name": "ipython",
    "version": 2
   },
   "file_extension": ".py",
   "mimetype": "text/x-python",
   "name": "python",
   "nbconvert_exporter": "python",
   "pygments_lexer": "ipython2",
   "version": "2.7.15"
  }
 },
 "nbformat": 4,
 "nbformat_minor": 2
}
