{
 "cells": [
  {
   "cell_type": "markdown",
   "metadata": {},
   "source": [
    "# prediction_pay_price减pay_price等于0、15为界把pay_price大于0的样本分为3类"
   ]
  },
  {
   "cell_type": "code",
   "execution_count": null,
   "metadata": {
    "scrolled": true
   },
   "outputs": [],
   "source": []
  },
  {
   "cell_type": "code",
   "execution_count": 2,
   "metadata": {},
   "outputs": [],
   "source": [
    "import numpy as np\n",
    "import pandas as pd\n",
    "import matplotlib.pyplot as plt\n",
    "from sklearn.model_selection import train_test_split\n",
    "from xgboost import XGBClassifier\n",
    "%matplotlib inline"
   ]
  },
  {
   "cell_type": "code",
   "execution_count": 117,
   "metadata": {},
   "outputs": [
    {
     "data": {
      "text/plain": [
       "((41439, 109),\n",
       " Index([u'user_id', u'register_time', u'wood_add_value', u'wood_reduce_value',\n",
       "        u'stone_add_value', u'stone_reduce_value', u'ivory_add_value',\n",
       "        u'ivory_reduce_value', u'meat_add_value', u'meat_reduce_value',\n",
       "        ...\n",
       "        u'pvp_battle_count', u'pvp_lanch_count', u'pvp_win_count',\n",
       "        u'pve_battle_count', u'pve_lanch_count', u'pve_win_count',\n",
       "        u'avg_online_minutes', u'pay_price', u'pay_count', u'lable'],\n",
       "       dtype='object', length=109),\n",
       " (41439, 110),\n",
       " Index([u'user_id', u'register_time', u'wood_add_value', u'wood_reduce_value',\n",
       "        u'stone_add_value', u'stone_reduce_value', u'ivory_add_value',\n",
       "        u'ivory_reduce_value', u'meat_add_value', u'meat_reduce_value',\n",
       "        ...\n",
       "        u'pvp_lanch_count', u'pvp_win_count', u'pve_battle_count',\n",
       "        u'pve_lanch_count', u'pve_win_count', u'avg_online_minutes',\n",
       "        u'pay_price', u'pay_count', u'prediction_pay_price', u'lable'],\n",
       "       dtype='object', length=110))"
      ]
     },
     "execution_count": 117,
     "metadata": {},
     "output_type": "execute_result"
    }
   ],
   "source": [
    "df = pd.read_csv(\"pay_pricedayu0.csv\")\n",
    "df[\"leibie\"] = 0\n",
    "df[\"leibie\"] = df.apply(lambda x: 1 if ((-x[\"pay_price\"] + x[\"prediction_pay_price\"])>=15 and  x[\"pay_price\"] != 0) else x[\"leibie\"] ,axis=1)\n",
    "df[\"leibie\"] = df.apply(lambda x: 2 if x[\"pay_price\"] == x[\"prediction_pay_price\"] else x[\"leibie\"],axis=1)\n",
    "df[\"leibie\"] = df.apply(lambda x: 3 if ((-x[\"pay_price\"]+x[\"prediction_pay_price\"])<15 and  x[\"pay_price\"] != 0 and (-x[\"pay_price\"]+x[\"prediction_pay_price\"])>0) else x[\"leibie\"],axis=1)\n",
    "df_ = df.drop(['prediction_pay_price'],axis=1)\n",
    "dt1=pd.to_datetime(df_[\"register_time\"])\n",
    "df_[\"register_time\"] = dt1.dt.dayofyear\n",
    "df_.shape,df_.columns,df.shape,df.columns"
   ]
  },
  {
   "cell_type": "code",
   "execution_count": 118,
   "metadata": {
    "scrolled": true
   },
   "outputs": [
    {
     "data": {
      "text/html": [
       "<div>\n",
       "<style scoped>\n",
       "    .dataframe tbody tr th:only-of-type {\n",
       "        vertical-align: middle;\n",
       "    }\n",
       "\n",
       "    .dataframe tbody tr th {\n",
       "        vertical-align: top;\n",
       "    }\n",
       "\n",
       "    .dataframe thead th {\n",
       "        text-align: right;\n",
       "    }\n",
       "</style>\n",
       "<table border=\"1\" class=\"dataframe\">\n",
       "  <thead>\n",
       "    <tr style=\"text-align: right;\">\n",
       "      <th></th>\n",
       "      <th>user_id</th>\n",
       "      <th>register_time</th>\n",
       "      <th>wood_add_value</th>\n",
       "      <th>wood_reduce_value</th>\n",
       "      <th>stone_add_value</th>\n",
       "      <th>stone_reduce_value</th>\n",
       "      <th>ivory_add_value</th>\n",
       "      <th>ivory_reduce_value</th>\n",
       "      <th>meat_add_value</th>\n",
       "      <th>meat_reduce_value</th>\n",
       "      <th>...</th>\n",
       "      <th>pvp_battle_count</th>\n",
       "      <th>pvp_lanch_count</th>\n",
       "      <th>pvp_win_count</th>\n",
       "      <th>pve_battle_count</th>\n",
       "      <th>pve_lanch_count</th>\n",
       "      <th>pve_win_count</th>\n",
       "      <th>avg_online_minutes</th>\n",
       "      <th>pay_price</th>\n",
       "      <th>pay_count</th>\n",
       "      <th>lable</th>\n",
       "    </tr>\n",
       "  </thead>\n",
       "  <tbody>\n",
       "    <tr>\n",
       "      <th>0</th>\n",
       "      <td>1617</td>\n",
       "      <td>26</td>\n",
       "      <td>30000</td>\n",
       "      <td>97200</td>\n",
       "      <td>20000</td>\n",
       "      <td>0</td>\n",
       "      <td>0</td>\n",
       "      <td>0</td>\n",
       "      <td>160500</td>\n",
       "      <td>80392</td>\n",
       "      <td>...</td>\n",
       "      <td>0</td>\n",
       "      <td>0</td>\n",
       "      <td>0</td>\n",
       "      <td>0</td>\n",
       "      <td>0</td>\n",
       "      <td>0</td>\n",
       "      <td>44.666667</td>\n",
       "      <td>0.99</td>\n",
       "      <td>1</td>\n",
       "      <td>0</td>\n",
       "    </tr>\n",
       "    <tr>\n",
       "      <th>1</th>\n",
       "      <td>2808909</td>\n",
       "      <td>42</td>\n",
       "      <td>6650612</td>\n",
       "      <td>6868704</td>\n",
       "      <td>2297540</td>\n",
       "      <td>2051301</td>\n",
       "      <td>651000</td>\n",
       "      <td>0</td>\n",
       "      <td>8949497</td>\n",
       "      <td>7126832</td>\n",
       "      <td>...</td>\n",
       "      <td>33</td>\n",
       "      <td>19</td>\n",
       "      <td>20</td>\n",
       "      <td>36</td>\n",
       "      <td>36</td>\n",
       "      <td>32</td>\n",
       "      <td>226.166667</td>\n",
       "      <td>34.95</td>\n",
       "      <td>5</td>\n",
       "      <td>1</td>\n",
       "    </tr>\n",
       "    <tr>\n",
       "      <th>2</th>\n",
       "      <td>1639</td>\n",
       "      <td>26</td>\n",
       "      <td>249050</td>\n",
       "      <td>173248</td>\n",
       "      <td>70841</td>\n",
       "      <td>117012</td>\n",
       "      <td>55000</td>\n",
       "      <td>0</td>\n",
       "      <td>206366</td>\n",
       "      <td>82205</td>\n",
       "      <td>...</td>\n",
       "      <td>0</td>\n",
       "      <td>0</td>\n",
       "      <td>0</td>\n",
       "      <td>0</td>\n",
       "      <td>0</td>\n",
       "      <td>0</td>\n",
       "      <td>109.333333</td>\n",
       "      <td>12.97</td>\n",
       "      <td>3</td>\n",
       "      <td>0</td>\n",
       "    </tr>\n",
       "    <tr>\n",
       "      <th>3</th>\n",
       "      <td>1678</td>\n",
       "      <td>26</td>\n",
       "      <td>0</td>\n",
       "      <td>0</td>\n",
       "      <td>0</td>\n",
       "      <td>0</td>\n",
       "      <td>0</td>\n",
       "      <td>0</td>\n",
       "      <td>0</td>\n",
       "      <td>0</td>\n",
       "      <td>...</td>\n",
       "      <td>0</td>\n",
       "      <td>0</td>\n",
       "      <td>0</td>\n",
       "      <td>0</td>\n",
       "      <td>0</td>\n",
       "      <td>0</td>\n",
       "      <td>127.833333</td>\n",
       "      <td>0.99</td>\n",
       "      <td>1</td>\n",
       "      <td>0</td>\n",
       "    </tr>\n",
       "    <tr>\n",
       "      <th>4</th>\n",
       "      <td>1711</td>\n",
       "      <td>26</td>\n",
       "      <td>0</td>\n",
       "      <td>0</td>\n",
       "      <td>0</td>\n",
       "      <td>0</td>\n",
       "      <td>0</td>\n",
       "      <td>0</td>\n",
       "      <td>0</td>\n",
       "      <td>0</td>\n",
       "      <td>...</td>\n",
       "      <td>0</td>\n",
       "      <td>0</td>\n",
       "      <td>0</td>\n",
       "      <td>0</td>\n",
       "      <td>0</td>\n",
       "      <td>0</td>\n",
       "      <td>203.166667</td>\n",
       "      <td>0.99</td>\n",
       "      <td>1</td>\n",
       "      <td>0</td>\n",
       "    </tr>\n",
       "    <tr>\n",
       "      <th>5</th>\n",
       "      <td>10982</td>\n",
       "      <td>32</td>\n",
       "      <td>15088585</td>\n",
       "      <td>13590915</td>\n",
       "      <td>9454636</td>\n",
       "      <td>8489922</td>\n",
       "      <td>3198423</td>\n",
       "      <td>243776</td>\n",
       "      <td>20323199</td>\n",
       "      <td>12711138</td>\n",
       "      <td>...</td>\n",
       "      <td>123</td>\n",
       "      <td>117</td>\n",
       "      <td>122</td>\n",
       "      <td>72</td>\n",
       "      <td>72</td>\n",
       "      <td>70</td>\n",
       "      <td>444.666667</td>\n",
       "      <td>16.96</td>\n",
       "      <td>4</td>\n",
       "      <td>1</td>\n",
       "    </tr>\n",
       "    <tr>\n",
       "      <th>6</th>\n",
       "      <td>1763</td>\n",
       "      <td>26</td>\n",
       "      <td>0</td>\n",
       "      <td>0</td>\n",
       "      <td>0</td>\n",
       "      <td>0</td>\n",
       "      <td>0</td>\n",
       "      <td>0</td>\n",
       "      <td>0</td>\n",
       "      <td>0</td>\n",
       "      <td>...</td>\n",
       "      <td>0</td>\n",
       "      <td>0</td>\n",
       "      <td>0</td>\n",
       "      <td>0</td>\n",
       "      <td>0</td>\n",
       "      <td>0</td>\n",
       "      <td>13.833333</td>\n",
       "      <td>26.94</td>\n",
       "      <td>6</td>\n",
       "      <td>0</td>\n",
       "    </tr>\n",
       "    <tr>\n",
       "      <th>7</th>\n",
       "      <td>1806</td>\n",
       "      <td>26</td>\n",
       "      <td>0</td>\n",
       "      <td>0</td>\n",
       "      <td>0</td>\n",
       "      <td>0</td>\n",
       "      <td>0</td>\n",
       "      <td>0</td>\n",
       "      <td>0</td>\n",
       "      <td>0</td>\n",
       "      <td>...</td>\n",
       "      <td>0</td>\n",
       "      <td>0</td>\n",
       "      <td>0</td>\n",
       "      <td>0</td>\n",
       "      <td>0</td>\n",
       "      <td>0</td>\n",
       "      <td>75.166667</td>\n",
       "      <td>9.99</td>\n",
       "      <td>1</td>\n",
       "      <td>0</td>\n",
       "    </tr>\n",
       "    <tr>\n",
       "      <th>8</th>\n",
       "      <td>44568</td>\n",
       "      <td>33</td>\n",
       "      <td>11164417</td>\n",
       "      <td>8906896</td>\n",
       "      <td>8374338</td>\n",
       "      <td>5990150</td>\n",
       "      <td>4314576</td>\n",
       "      <td>230976</td>\n",
       "      <td>19702559</td>\n",
       "      <td>11589635</td>\n",
       "      <td>...</td>\n",
       "      <td>11</td>\n",
       "      <td>5</td>\n",
       "      <td>10</td>\n",
       "      <td>31</td>\n",
       "      <td>31</td>\n",
       "      <td>27</td>\n",
       "      <td>52.166667</td>\n",
       "      <td>11.96</td>\n",
       "      <td>4</td>\n",
       "      <td>1</td>\n",
       "    </tr>\n",
       "    <tr>\n",
       "      <th>9</th>\n",
       "      <td>1897</td>\n",
       "      <td>26</td>\n",
       "      <td>331261</td>\n",
       "      <td>436832</td>\n",
       "      <td>334718</td>\n",
       "      <td>442400</td>\n",
       "      <td>193000</td>\n",
       "      <td>0</td>\n",
       "      <td>498127</td>\n",
       "      <td>314368</td>\n",
       "      <td>...</td>\n",
       "      <td>0</td>\n",
       "      <td>0</td>\n",
       "      <td>0</td>\n",
       "      <td>4</td>\n",
       "      <td>4</td>\n",
       "      <td>4</td>\n",
       "      <td>112.833333</td>\n",
       "      <td>0.99</td>\n",
       "      <td>1</td>\n",
       "      <td>0</td>\n",
       "    </tr>\n",
       "  </tbody>\n",
       "</table>\n",
       "<p>10 rows × 109 columns</p>\n",
       "</div>"
      ],
      "text/plain": [
       "   user_id  register_time  wood_add_value  wood_reduce_value  stone_add_value  \\\n",
       "0     1617             26           30000              97200            20000   \n",
       "1  2808909             42         6650612            6868704          2297540   \n",
       "2     1639             26          249050             173248            70841   \n",
       "3     1678             26               0                  0                0   \n",
       "4     1711             26               0                  0                0   \n",
       "5    10982             32        15088585           13590915          9454636   \n",
       "6     1763             26               0                  0                0   \n",
       "7     1806             26               0                  0                0   \n",
       "8    44568             33        11164417            8906896          8374338   \n",
       "9     1897             26          331261             436832           334718   \n",
       "\n",
       "   stone_reduce_value  ivory_add_value  ivory_reduce_value  meat_add_value  \\\n",
       "0                   0                0                   0          160500   \n",
       "1             2051301           651000                   0         8949497   \n",
       "2              117012            55000                   0          206366   \n",
       "3                   0                0                   0               0   \n",
       "4                   0                0                   0               0   \n",
       "5             8489922          3198423              243776        20323199   \n",
       "6                   0                0                   0               0   \n",
       "7                   0                0                   0               0   \n",
       "8             5990150          4314576              230976        19702559   \n",
       "9              442400           193000                   0          498127   \n",
       "\n",
       "   meat_reduce_value  ...    pvp_battle_count  pvp_lanch_count  pvp_win_count  \\\n",
       "0              80392  ...                   0                0              0   \n",
       "1            7126832  ...                  33               19             20   \n",
       "2              82205  ...                   0                0              0   \n",
       "3                  0  ...                   0                0              0   \n",
       "4                  0  ...                   0                0              0   \n",
       "5           12711138  ...                 123              117            122   \n",
       "6                  0  ...                   0                0              0   \n",
       "7                  0  ...                   0                0              0   \n",
       "8           11589635  ...                  11                5             10   \n",
       "9             314368  ...                   0                0              0   \n",
       "\n",
       "   pve_battle_count  pve_lanch_count  pve_win_count  avg_online_minutes  \\\n",
       "0                 0                0              0           44.666667   \n",
       "1                36               36             32          226.166667   \n",
       "2                 0                0              0          109.333333   \n",
       "3                 0                0              0          127.833333   \n",
       "4                 0                0              0          203.166667   \n",
       "5                72               72             70          444.666667   \n",
       "6                 0                0              0           13.833333   \n",
       "7                 0                0              0           75.166667   \n",
       "8                31               31             27           52.166667   \n",
       "9                 4                4              4          112.833333   \n",
       "\n",
       "   pay_price  pay_count  lable  \n",
       "0       0.99          1      0  \n",
       "1      34.95          5      1  \n",
       "2      12.97          3      0  \n",
       "3       0.99          1      0  \n",
       "4       0.99          1      0  \n",
       "5      16.96          4      1  \n",
       "6      26.94          6      0  \n",
       "7       9.99          1      0  \n",
       "8      11.96          4      1  \n",
       "9       0.99          1      0  \n",
       "\n",
       "[10 rows x 109 columns]"
      ]
     },
     "execution_count": 118,
     "metadata": {},
     "output_type": "execute_result"
    }
   ],
   "source": [
    "df_.head(10)"
   ]
  },
  {
   "cell_type": "code",
   "execution_count": null,
   "metadata": {
    "scrolled": true
   },
   "outputs": [],
   "source": []
  },
  {
   "cell_type": "code",
   "execution_count": 59,
   "metadata": {},
   "outputs": [
    {
     "name": "stdout",
     "output_type": "stream",
     "text": [
      "(6694, 111)\n",
      "(30130, 111)\n",
      "(4615, 111)\n"
     ]
    }
   ],
   "source": [
    "label_1 = df.loc[df.leibie==1]\n",
    "print label_1.shape\n",
    "# label_1.to_csv(\"label_1.csv\",index=0)\n",
    "label_2 = df.loc[df.leibie==2]\n",
    "print label_2.shape\n",
    "# label_2.to_csv(\"label_2.csv\",index=0)\n",
    "label_3 = df.loc[df.leibie==3]\n",
    "print label_3.shape\n",
    "# label_3.to_csv(\"label_3.csv\",index=0)"
   ]
  },
  {
   "cell_type": "code",
   "execution_count": 6,
   "metadata": {},
   "outputs": [
    {
     "name": "stdout",
     "output_type": "stream",
     "text": [
      "(8733, 120) (30130, 120) (2576, 120)\n"
     ]
    }
   ],
   "source": [
    "print(label_1.shape,label_2.shape,label_3.shape)"
   ]
  },
  {
   "cell_type": "code",
   "execution_count": 12,
   "metadata": {},
   "outputs": [],
   "source": [
    "\n",
    "def feature(df):\n",
    "    df[\"wood\"] = df[\"wood_reduce_value\"]/(df[\"wood_add_value\"]+0.1)\n",
    "    df[\"meat\"] = df[\"meat_reduce_value\"]/(df[\"meat_add_value\"]+0.1)\n",
    "    df[\"ivory\"] = df[\"ivory_reduce_value\"]/(df[\"ivory_add_value\"]+0.1)\n",
    "    df[\"stone\"] = df[\"stone_reduce_value\"]/(df[\"stone_add_value\"]+0.1)\n",
    "    df[\"magic\"] = df[\"magic_reduce_value\"]/(df[\"magic_add_value\"]+0.1)\n",
    "    #\n",
    "#     df[\"wood1\"] = (df[\"wood_add_value\"]-df[\"wood_reduce_value\"])/(df[\"wood_add_value\"]+0.1)\n",
    "#     df[\"meat1\"] = (df[\"meat_add_value\"]-df[\"meat_reduce_value\"])/(df[\"meat_add_value\"]+0.1)\n",
    "#     df[\"ivory1\"] = (df[\"ivory_add_value\"]-df[\"ivory_reduce_value\"])/(df[\"ivory_add_value\"]+0.1)\n",
    "#     df[\"stone1\"] = (df[\"stone_add_value\"]-df[\"stone_reduce_value\"])/(df[\"stone_add_value\"]+0.1)\n",
    "#\n",
    "#     df[\"magic1\"] = (df[\"magic_add_value\"]-df[\"magic_reduce_value\"])/(df[\"magic_add_value\"]+0.1)\n",
    "    \n",
    "    #\n",
    "#     df[\"shaman\"] = df[\"shaman_reduce_value\"]/(df[\"shaman_add_value\"]+0.1)\n",
    "#     df[\"infantry\"] = df[\"infantry_reduce_value\"]/(df[\"infantry_add_value\"]+0.1)\n",
    "#     df[\"cavalry\"] = df[\"cavalry_reduce_value\"]/(df[\"cavalry_add_value\"]+0.1)\n",
    "#     df[\"wound_shaman\"] =df[\"wound_shaman_reduce_value\"]/(df[\"wound_shaman_add_value\"]+0.1)\n",
    "#     df[\"wound_shaman1\"] =df[\"wound_shaman_reduce_value\"]/(df[\"shaman_reduce_value\"]+0.1)\n",
    "#\n",
    "#     df[\"wound_infantry\"] =df[\"wound_infantry_reduce_value\"]/(df[\"infantry_reduce_value\"]+0.1)\n",
    "#     df[\"wound_infantry1\"] =df[\"wound_infantry_reduce_value\"]/(df[\"wound_infantry_add_value\"]+0.1)\n",
    "#     df[\"wound_infantry2\"] =df[\"wound_infantry_add_value\"]/(df[\"infantry_add_value\"]+0.1)\n",
    "#     df[\"wound_cavalry\"] =df[\"wound_cavalry_reduce_value\"]/(df[\"cavalry_reduce_value\"]+0.1)\n",
    "#     df[\"wound_cavalry1\"] =df[\"wound_cavalry_reduce_value\"]/(df[\"wound_cavalry_add_value\"]+0.1)\n",
    "    \n",
    "    \n",
    "    \n",
    "    df[\"general_acceleration\"] = df[\"general_acceleration_reduce_value\"]/(df[\"general_acceleration_add_value\"]+0.1)\n",
    "    df[\"building_acceleration\"] = df[\"building_acceleration_reduce_value\"]/(df[\"building_acceleration_add_value\"]+0.1)\n",
    "#     df[\"test\"] =  df[\"sr_shaman_tier_3_level\"]+ df[\"sr_shaman_tier_4_level\"]\n",
    "    df[\"reaserch_acceleration\"] = df[\"reaserch_acceleration_reduce_value\"]/(df[\"reaserch_acceleration_add_value\"]+0.1)\n",
    "    df[\"training_acceleration\"] = df[\"training_acceleration_reduce_value\"]/(df[\"training_acceleration_add_value\"]+0.1)\n",
    "#     df[\"treatment_acceleration\"] = (df[\"treatment_acceleraion_add_value\"]-df[\"treatment_acceleration_reduce_value\"])/(df[\"treatment_acceleraion_add_value\"]+0.1)\n",
    "    \n",
    "    \n",
    "    df[\"sr_outpost\"] =df[\"sr_outpost_tier_3_level\"]+df[\"sr_outpost_tier_2_level\"]+df[\"sr_outpost_tier_4_level\"]\n",
    "    df[\"pvp_battle\"] = df[\"pvp_battle_count\"]*df[\"pay_price\"]/df[\"avg_online_minutes\"]/df[\"pay_count\"]\n",
    "\n",
    "    \n",
    "    df = df.drop([\n",
    "                    'stone_reduce_value',    \n",
    "#                     \"pay_price\",\n",
    "#                     \"avg_online_time\"\n",
    "                    ], axis=1)\n",
    "\n",
    "    \n",
    "    return df\n",
    "df = df.iloc[:,1:]\n",
    "df = feature(df)\n",
    "cols = [x for x in df.columns if x not in [\"user_id\", 'register_time',\"leibie\",\"prediction_pay_price\",\"lable\"]]\n",
    "train_x = df[cols]\n",
    "train_y = df[\"leibie\"].values\n",
    "X_train, X_test, y_train, y_test = train_test_split(train_x, train_y, test_size=0.4, random_state=2008)"
   ]
  },
  {
   "cell_type": "code",
   "execution_count": 13,
   "metadata": {},
   "outputs": [
    {
     "name": "stderr",
     "output_type": "stream",
     "text": [
      "E:\\software\\anaconda1\\lib\\site-packages\\sklearn\\preprocessing\\label.py:151: DeprecationWarning: The truth value of an empty array is ambiguous. Returning False, but in future this will result in an error. Use `array.size > 0` to check that an array is not empty.\n",
      "  if diff:\n",
      "E:\\software\\anaconda1\\lib\\site-packages\\sklearn\\preprocessing\\label.py:151: DeprecationWarning: The truth value of an empty array is ambiguous. Returning False, but in future this will result in an error. Use `array.size > 0` to check that an array is not empty.\n",
      "  if diff:\n"
     ]
    },
    {
     "name": "stdout",
     "output_type": "stream",
     "text": [
      "2698 2349 1498 851 0.5552260934025204\n",
      "12034 14120 11442 2678 0.9508060495263421\n",
      "1844 107 24 83 0.013015184381778741\n",
      "0.7820945945945946\n"
     ]
    }
   ],
   "source": [
    "model = XGBClassifier(booster= 'gbtree',\n",
    "                      objective='multi:softmax',  # 多分类的问题\n",
    "                              num_class= 3,\n",
    "                              gamma=0.1,                  # 用于控制是否后剪枝的参数,越大越保守，一般0.1、0.2这样子。\n",
    "                              max_depth= 16,               # 构建树的深度，越大越容易过拟合\n",
    "#                               lambda = 2,                   # 控制模型复杂度的权重值的L2正则化项参数，参数越大，模型越不容易过拟合。\n",
    "                              subsample= 0.7,              # 随机采样训练样本\n",
    "                              colsample_bytree= 0.7,       # 生成树时进行的列采样\n",
    "                              min_child_weight= 3,\n",
    "                              silent=1,                   # 设置成1则没有运行信息输出，最好是设置为0.\n",
    "                              eta=0.1,                  # 如同学习率\n",
    "                              seed= 1000,\n",
    "                              nthread= 4, )\n",
    "model.fit(X_train, y_train)\n",
    "pred = model.predict(train_x)\n",
    "pred = model.predict(X_test)\n",
    "print(sum(y_test==1),sum(pred==1),sum((pred==1) & (pred==y_test)),sum(pred==1)-sum((pred==1) & (pred==y_test)),sum((pred==1) & (pred==y_test))/sum(y_test==1))\n",
    "print(sum(y_test==2),sum(pred==2),sum((pred==2) & (pred==y_test)),sum(pred==2)-sum((pred==2) & (pred==y_test)),sum((pred==2) & (pred==y_test))/sum(y_test==2))\n",
    "print(sum(y_test==3),sum(pred==3),sum((pred==3) & (pred==y_test)),sum(pred==3)-sum((pred==3) & (pred==y_test)),sum((pred==3) & (pred==y_test))/sum(y_test==3))\n",
    "print(sum(y_test==pred)/len(pred))"
   ]
  },
  {
   "cell_type": "code",
   "execution_count": 14,
   "metadata": {},
   "outputs": [],
   "source": [
    "# print(len(pred))\n",
    "# print(sum(pred==y_test))\n",
    "# print(sum(pred==y_test)/len(pred))"
   ]
  },
  {
   "cell_type": "code",
   "execution_count": 15,
   "metadata": {},
   "outputs": [
    {
     "name": "stderr",
     "output_type": "stream",
     "text": [
      "E:\\software\\anaconda1\\lib\\site-packages\\ipykernel_launcher.py:1: SettingWithCopyWarning: \n",
      "A value is trying to be set on a copy of a slice from a DataFrame.\n",
      "Try using .loc[row_indexer,col_indexer] = value instead\n",
      "\n",
      "See the caveats in the documentation: http://pandas.pydata.org/pandas-docs/stable/indexing.html#indexing-view-versus-copy\n",
      "  \"\"\"Entry point for launching an IPython kernel.\n",
      "E:\\software\\anaconda1\\lib\\site-packages\\ipykernel_launcher.py:2: SettingWithCopyWarning: \n",
      "A value is trying to be set on a copy of a slice from a DataFrame.\n",
      "Try using .loc[row_indexer,col_indexer] = value instead\n",
      "\n",
      "See the caveats in the documentation: http://pandas.pydata.org/pandas-docs/stable/indexing.html#indexing-view-versus-copy\n",
      "  \n"
     ]
    }
   ],
   "source": [
    "X_test[\"y\"] = pd.DataFrame(y_test)\n",
    "X_test[\"or\"] = pd.DataFrame(pred)"
   ]
  },
  {
   "cell_type": "code",
   "execution_count": 16,
   "metadata": {},
   "outputs": [],
   "source": [
    "X_test.to_csv(\"hhh.csv\",index=0)"
   ]
  },
  {
   "cell_type": "code",
   "execution_count": 17,
   "metadata": {},
   "outputs": [],
   "source": [
    "# print(sum(y_test==1),sum(y_test==2),sum(y_test==3))"
   ]
  },
  {
   "cell_type": "code",
   "execution_count": 18,
   "metadata": {},
   "outputs": [
    {
     "name": "stderr",
     "output_type": "stream",
     "text": [
      "E:\\software\\anaconda1\\lib\\site-packages\\sklearn\\preprocessing\\label.py:151: DeprecationWarning: The truth value of an empty array is ambiguous. Returning False, but in future this will result in an error. Use `array.size > 0` to check that an array is not empty.\n",
      "  if diff:\n"
     ]
    }
   ],
   "source": [
    "X_test = pd.read_csv(\"test_pay_pricedayu0.csv\")\n",
    "X_test = feature(X_test)\n",
    "ans = model.predict(X_test[cols])"
   ]
  },
  {
   "cell_type": "code",
   "execution_count": 19,
   "metadata": {},
   "outputs": [
    {
     "name": "stdout",
     "output_type": "stream",
     "text": [
      "2759 16661 129\n"
     ]
    }
   ],
   "source": [
    "print(sum(ans==1),sum(ans==2),sum(ans==3))"
   ]
  },
  {
   "cell_type": "code",
   "execution_count": 20,
   "metadata": {},
   "outputs": [],
   "source": [
    "X_test[\"zhongshu\"] = ans"
   ]
  },
  {
   "cell_type": "code",
   "execution_count": 21,
   "metadata": {},
   "outputs": [],
   "source": [
    "X_test[[\"user_id\",\"zhongshu\"]].to_csv(\"test_123.csv\",index=0)"
   ]
  },
  {
   "cell_type": "code",
   "execution_count": null,
   "metadata": {},
   "outputs": [],
   "source": []
  },
  {
   "cell_type": "code",
   "execution_count": null,
   "metadata": {},
   "outputs": [],
   "source": []
  },
  {
   "cell_type": "code",
   "execution_count": null,
   "metadata": {},
   "outputs": [],
   "source": []
  },
  {
   "cell_type": "code",
   "execution_count": null,
   "metadata": {
    "scrolled": true
   },
   "outputs": [],
   "source": []
  },
  {
   "cell_type": "code",
   "execution_count": null,
   "metadata": {},
   "outputs": [],
   "source": []
  }
 ],
 "metadata": {
  "kernelspec": {
   "display_name": "Python 2",
   "language": "python",
   "name": "python2"
  },
  "language_info": {
   "codemirror_mode": {
    "name": "ipython",
    "version": 2
   },
   "file_extension": ".py",
   "mimetype": "text/x-python",
   "name": "python",
   "nbconvert_exporter": "python",
   "pygments_lexer": "ipython2",
   "version": "2.7.15"
  }
 },
 "nbformat": 4,
 "nbformat_minor": 2
}
