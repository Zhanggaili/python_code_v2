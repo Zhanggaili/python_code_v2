{
 "cells": [
  {
   "cell_type": "code",
   "execution_count": 1,
   "metadata": {},
   "outputs": [],
   "source": [
    "import numpy as np\n",
    "import pandas as pd\n",
    "import matplotlib.pyplot as plt\n",
    "import seaborn as sns\n",
    "import warnings\n",
    "warnings.filterwarnings('ignore')\n",
    "%matplotlib inline\n",
    "plt.style.use('ggplot')\n"
   ]
  },
  {
   "cell_type": "code",
   "execution_count": 24,
   "metadata": {},
   "outputs": [],
   "source": [
    "data_train = pd.read_csv(\"under_sample_data.csv\")"
   ]
  },
  {
   "cell_type": "code",
   "execution_count": 53,
   "metadata": {},
   "outputs": [],
   "source": [
    "from sklearn.base import BaseEstimator, TransformerMixin\n",
    "from sklearn.pipeline import Pipeline, make_pipeline\n",
    "import gc"
   ]
  },
  {
   "cell_type": "code",
   "execution_count": 54,
   "metadata": {},
   "outputs": [],
   "source": [
    "class add_feature(BaseEstimator, TransformerMixin):\n",
    "    def __init__(self,additional=1):\n",
    "        self.additional = additional\n",
    "    \n",
    "    def fit(self,X,y=None):\n",
    "        return self\n",
    "        \n",
    "    def transform(self,X):    \n",
    "#        data[\"wkd\"] = all_data.register_time.dt.weekday\n",
    "        dt1=pd.to_datetime(X[\"register_time\"])\n",
    "        X[\"register_time\"] = dt1\n",
    "        X[\"wkd\"] = dt1.dt.weekday\n",
    "        X[\"day\"] = dt1.dt.day\n",
    "        X[\"hour\"] = dt1.dt.hour\n",
    "        X[\"day_in_year\"] = dt1.dt.dayofyear\n",
    "        X[\"days_spfest\"] = X[\"register_time\"].map(lambda x: (x - pd.to_datetime(\"2018-02-16\")).days)\n",
    "#         data =  data.merge(wkd_hour_df,on=[\"wkd\",\"hour\"],how = \"left\")\n",
    "#         data[\"day\"] = data.register_time.dt.day\n",
    "#         data[\"month\"] = data.register_time.dt.month\n",
    "#         data[\"day_in_year\"] = data.register_time.dt.dayofyear\n",
    "#         data[\"days_spfest\"] = data[\"register_time\"].map(lambda x: (x - pd.to_datetime(\"2018-02-16\")).days)\n",
    "\n",
    "        X = X.drop([\"register_time\"],axis=1)\n",
    "        if \"prediction_pay_price\" in X.columns:\n",
    "            X = X.drop(\"prediction_pay_price\",axis=1)\n",
    "        X[\"price_per\"] = (X[\"pay_price\"]+0.1)/(X[\"pay_count\"]+0.1)\n",
    "\n",
    "        X[\"pvp_win_rate\"] = (X.pvp_win_count + 0.1)/(X.pvp_lanch_count+0.1)\n",
    "        X[\"pve_win_rate\"] = (X.pve_win_count+0.1)/(X.pve_lanch_count+0.1)\n",
    "        X[\"pvp_rate\"] = (X.pvp_lanch_count+0.1)/(X.pve_lanch_count+0.1)\n",
    "        X[\"pvp_vs_pve_win\"] = (X.pvp_win_count+0.1)/(X.pve_win_count+0.1)\n",
    "        \n",
    "#         X = X.merge(hour_mean,on=\"hour\",how = \"left\")\n",
    "#         X = X.merge(wkd_mean,on=\"wkd\",how=\"left\")\n",
    "#         X = X.merge(dayinyear_mean,how=\"left\",on=\"day_in_year\")\n",
    "#         X = X.merge(dayinyear_hr_mean,how=\"left\",on=[\"day_in_year\",\"hour\"])   \n",
    "        X[\"avg_pay_price\"] = X.pay_price/(X.avg_online_minutes+0.01)\n",
    "        X[\"avg_pay_count\"] = X.pay_count/(X.avg_online_minutes+0.01)\n",
    "        X.loc[X.avg_online_minutes == 0,\"avg_pay_price\"] = 0\n",
    "        X.loc[X.avg_online_minutes == 0,\"avg_pay_count\"] = 0\n",
    "        X[\"build_remain\"] = X.building_acceleration_add_value - X.building_acceleration_reduce_value\n",
    "        X[\"build_use_rate\"] = (X.building_acceleration_reduce_value + 0.1)/(X.building_acceleration_add_value + 0.1)\n",
    "        X[\"treat_remain\"] = X.treatment_acceleraion_add_value - X.treatment_acceleration_reduce_value\n",
    "        X[\"treat_use_rate\"] = (X.treatment_acceleration_reduce_value+0.1)/(X.treatment_acceleraion_add_value+0.1)\n",
    "        X[\"res_remain\"] = X.reaserch_acceleration_add_value - X.reaserch_acceleration_reduce_value\n",
    "        X[\"res_use_rate\"] = (X.reaserch_acceleration_reduce_value+ 0.1)/(X.reaserch_acceleration_add_value+ 0.1)\n",
    "        #X.loc[X.avg_online_minutes == 0,\"avg_acce_add\"] = 0\n",
    "        bd_cols_lv = [col for col in X.columns if col.startswith(\"bd\")]\n",
    "        sr_cols_lv = [col for col in X.columns if col.startswith(\"sr\")]\n",
    "        X[\"pve_vs_price\"] = X[\"pve_win_count\"]/(X[\"pay_price\"]+0.1)\n",
    "        X[\"pvp_vs_price\"] = X[\"pvp_win_count\"]/(X[\"pay_price\"]+0.1)\n",
    "        X[\"total_bd_lv\"] = X[bd_cols_lv].sum(axis=1)\n",
    "        X[\"total_sr_lv\"] = X[sr_cols_lv].sum(axis=1)\n",
    "        X[\"total_lv\"] = X[\"total_bd_lv\"] + X[\"total_sr_lv\"]\n",
    "        X[\"sr_prod_lv\"] = X[['sr_rss_a_prod_levell','sr_rss_b_prod_level','sr_rss_c_prod_level','sr_rss_d_prod_level']].sum(axis=1)\n",
    "        X[\"ivory_use_rate\"] = (X[\"ivory_reduce_value\"] + 0.1)/(X[\"ivory_add_value\"] + 0.1)\n",
    "        X[\"ivory_remain\"] = X[\"ivory_add_value\"] - X[\"ivory_reduce_value\"]\n",
    "        gc.collect()\n",
    "        return X"
   ]
  },
  {
   "cell_type": "code",
   "execution_count": 44,
   "metadata": {
    "scrolled": true
   },
   "outputs": [
    {
     "name": "stdout",
     "output_type": "stream",
     "text": [
      "0    10.000000\n",
      "1    62.980769\n",
      "2     0.000000\n",
      "3     1.442308\n",
      "4     0.000000\n",
      "Name: pve_vs_price, dtype: float64\n"
     ]
    }
   ],
   "source": [
    "# for col in data_train.columns:\n",
    "#     if col.startswith(\"bd\"):\n",
    "data_train[\"pve_vs_price\"] = data_train[\"pve_win_count\"]/(data_train[\"pay_price\"]+0.1)\n",
    "print data_train[\"pve_vs_price\"].head()"
   ]
  },
  {
   "cell_type": "code",
   "execution_count": 55,
   "metadata": {},
   "outputs": [],
   "source": [
    "pipe = Pipeline([\n",
    "    ('add_feature', add_feature(additional=2))\n",
    "    ])\n",
    "\n",
    "data_pipe = pipe.fit_transform(data_train)"
   ]
  },
  {
   "cell_type": "code",
   "execution_count": 58,
   "metadata": {},
   "outputs": [
    {
     "name": "stdout",
     "output_type": "stream",
     "text": [
      "   hour  day_in_year  days_spfest  pve_vs_price  price_per  pvp_win_rate  \\\n",
      "0    10           59           12     10.000000   1.000000      1.000000   \n",
      "1    23           44           -3     62.980769   0.990476      1.112721   \n",
      "2     4           48            1      0.000000   1.000000      1.000000   \n",
      "3     1           50            3      1.442308   0.990476      1.000000   \n",
      "4    21           36          -11      0.000000   1.000000      1.000000   \n",
      "\n",
      "   pve_win_rate  pvp_rate  pvp_vs_pve_win  avg_pay_price      ...       \\\n",
      "0      1.000000  0.090909        0.090909       0.000000      ...        \n",
      "1      0.977629  0.463087        0.527079       0.004478      ...        \n",
      "2      1.000000  1.000000        1.000000       0.000000      ...        \n",
      "3      1.000000  2.290323        2.290323       0.083627      ...        \n",
      "4      1.000000  1.000000        1.000000       0.000000      ...        \n",
      "\n",
      "   treat_use_rate  res_remain  res_use_rate  pvp_vs_price  total_bd_lv  \\\n",
      "0        1.000000           5      0.019608      0.000000           16   \n",
      "1        0.000306        4313      0.263880     33.173077          116   \n",
      "2        1.000000           0      1.000000      0.000000           15   \n",
      "3        0.009901        3100      0.000032      3.365385           51   \n",
      "4        1.000000          50      0.001996      0.000000            2   \n",
      "\n",
      "   total_sr_lv  total_lv  sr_prod_lv  ivory_use_rate  ivory_remain  \n",
      "0            1        17           0    3.333222e-05        3000.0  \n",
      "1           35       151           2    9.664270e-02     2278671.0  \n",
      "2            0        15           0    1.000000e+00           0.0  \n",
      "3            2        53           0    2.000000e-07      500000.0  \n",
      "4            0         2           0    1.000000e+00           0.0  \n",
      "\n",
      "[5 rows x 24 columns]\n"
     ]
    }
   ],
   "source": [
    "print data_pipe.iloc[:,109:].head()"
   ]
  },
  {
   "cell_type": "code",
   "execution_count": null,
   "metadata": {},
   "outputs": [],
   "source": [
    "#这个不知道怎么用\n",
    "# for i,re in dayinyear_hr_mean.iterrows():\n",
    "#             day = re['day_in_year']\n",
    "#             hr = re['hour']\n",
    "#             tmp = X[(all_data.day_in_year == day) & (X.hour)]\n",
    "#             all_data.loc[tmp.index,'day_hr_rank']=tmp.pay_price.rank(mothod = 'max',pct = True)"
   ]
  }
 ],
 "metadata": {
  "kernelspec": {
   "display_name": "Python 2",
   "language": "python",
   "name": "python2"
  },
  "language_info": {
   "codemirror_mode": {
    "name": "ipython",
    "version": 2
   },
   "file_extension": ".py",
   "mimetype": "text/x-python",
   "name": "python",
   "nbconvert_exporter": "python",
   "pygments_lexer": "ipython2",
   "version": "2.7.15"
  }
 },
 "nbformat": 4,
 "nbformat_minor": 2
}
