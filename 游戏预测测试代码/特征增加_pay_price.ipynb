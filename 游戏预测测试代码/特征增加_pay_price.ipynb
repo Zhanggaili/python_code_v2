{
 "cells": [
  {
   "cell_type": "code",
   "execution_count": 1,
   "metadata": {},
   "outputs": [
    {
     "name": "stdout",
     "output_type": "stream",
     "text": [
      "(2287985, 109)\n"
     ]
    }
   ],
   "source": [
    "import numpy as np\n",
    "import pandas as pd\n",
    "import matplotlib.pyplot as plt\n",
    "import seaborn as sns\n",
    "import warnings\n",
    "warnings.filterwarnings('ignore')\n",
    "%matplotlib inline\n",
    "plt.style.use('ggplot')\n",
    "\n",
    "train = pd.read_csv('tap_fun_train.csv')\n",
    "# test = pd.read_csv('tap_fun_test.csv')\n",
    "dt1=pd.to_datetime(train[\"register_time\"])\n",
    "train[\"register_time\"]=dt1.dt.dayofyear\n",
    "# dt2=pd.to_datetime(test[\"register_time\"])\n",
    "# test[\"register_time\"]=dt2.dt.dayofyear\n",
    "train.drop(train[(train[\"prediction_pay_price\"]>0)&(train[\"avg_online_minutes\"] == 0)].index,inplace=True)\n",
    "print train.shape"
   ]
  },
  {
   "cell_type": "code",
   "execution_count": 3,
   "metadata": {},
   "outputs": [
    {
     "name": "stdout",
     "output_type": "stream",
     "text": [
      "(2287985, 105)\n"
     ]
    }
   ],
   "source": [
    "# df=pd.concat([train,test], ignore_index=True)\n",
    "# df.drop(['sr_guest_troop_capacity_level',\n",
    "#          'sr_outpost_tier_4_level',\n",
    "#          'sr_rss_help_bonus_level',\n",
    "#          'user_id'\n",
    "#         ],axis=1, inplace=True)\n",
    "# print df.shape\n",
    "train.drop(['sr_guest_troop_capacity_level',\n",
    "         'sr_outpost_tier_4_level',\n",
    "         'sr_rss_help_bonus_level',\n",
    "         'user_id'\n",
    "        ],axis=1, inplace=True)\n",
    "print train.shape"
   ]
  },
  {
   "cell_type": "code",
   "execution_count": 4,
   "metadata": {},
   "outputs": [
    {
     "name": "stdout",
     "output_type": "stream",
     "text": [
      "Index([u'register_time', u'wood_add_value', u'wood_reduce_value',\n",
      "       u'stone_add_value', u'stone_reduce_value', u'ivory_add_value',\n",
      "       u'ivory_reduce_value', u'meat_add_value', u'meat_reduce_value',\n",
      "       u'magic_add_value',\n",
      "       ...\n",
      "       u'pvp_battle_count', u'pvp_lanch_count', u'pvp_win_count',\n",
      "       u'pve_battle_count', u'pve_lanch_count', u'pve_win_count',\n",
      "       u'avg_online_minutes', u'pay_price', u'pay_count',\n",
      "       u'prediction_pay_price'],\n",
      "      dtype='object', length=105)\n"
     ]
    }
   ],
   "source": [
    "print train.columns"
   ]
  },
  {
   "cell_type": "code",
   "execution_count": 9,
   "metadata": {},
   "outputs": [
    {
     "name": "stdout",
     "output_type": "stream",
     "text": [
      "(2287985, 102)\n"
     ]
    }
   ],
   "source": [
    "a = {}\n",
    "new_feature = pd.DataFrame(a)\n",
    "for i in range(102):\n",
    "    new_feature[train.columns[i]+'+pay_price'] = train[train.columns[i]]+train.pay_price\n",
    "#     new_feature[train.columns[i]+'-pay_price'] = train[train.columns[i]]-train.pay_price\n",
    "#     new_feature[train.columns[i]+'*pay_price'] = train[train.columns[i]]*train.pay_price\n",
    "#     new_feature[train.columns[i]+'/pay_price'] = train[train.columns[i]]/train.pay_price\n",
    "#     new_feature[train.columns[i]+'+pay_count'] = train[train.columns[i]]+train.pay_count\n",
    "#     new_feature[train.columns[i]+'-pay_count'] = train[train.columns[i]]-train.pay_count\n",
    "#     new_feature[train.columns[i]+'*pay_count'] = train[train.columns[i]]*train.pay_count\n",
    "#     new_feature[train.columns[i]+'/pay_count'] = train[train.columns[i]]/train.pay_count\n",
    "print new_feature.shape\n",
    "# print train.columns[0]+'+pay_price'"
   ]
  },
  {
   "cell_type": "code",
   "execution_count": 11,
   "metadata": {},
   "outputs": [
    {
     "name": "stdout",
     "output_type": "stream",
     "text": [
      "(2287985, 204)\n"
     ]
    }
   ],
   "source": [
    "new_feature.to_csv('new_feature.csv',index=None)\n",
    "for i in range(102):\n",
    "#     new_feature[train.columns[i]+'+pay_price'] = train[train.columns[i]]+train.pay_price\n",
    "    new_feature[train.columns[i]+'-pay_price'] = train[train.columns[i]]-train.pay_price\n",
    "print new_feature.shape"
   ]
  },
  {
   "cell_type": "code",
   "execution_count": null,
   "metadata": {},
   "outputs": [
    {
     "name": "stdout",
     "output_type": "stream",
     "text": [
      "(2287985, 302)\n"
     ]
    }
   ],
   "source": [
    "# for i in range(102):\n",
    "#     new_feature[train.columns[i]+'*pay_price'] = train[train.columns[i]]*train.pay_price\n",
    "# #     new_feature[train.columns[i]+'/pay_price'] = train[train.columns[i]]/train.pay_price\n",
    "# #     new_feature[train.columns[i]+'+pay_count'] = train[train.columns[i]]+train.pay_count\n",
    "print new_feature.shape\n",
    "new_feature.to_csv('new_feature.csv',index=None)"
   ]
  }
 ],
 "metadata": {
  "kernelspec": {
   "display_name": "Python 2",
   "language": "python",
   "name": "python2"
  },
  "language_info": {
   "codemirror_mode": {
    "name": "ipython",
    "version": 2
   },
   "file_extension": ".py",
   "mimetype": "text/x-python",
   "name": "python",
   "nbconvert_exporter": "python",
   "pygments_lexer": "ipython2",
   "version": "2.7.15"
  }
 },
 "nbformat": 4,
 "nbformat_minor": 2
}
