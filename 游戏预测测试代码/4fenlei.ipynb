{
 "cells": [
  {
   "cell_type": "code",
   "execution_count": 1,
   "metadata": {},
   "outputs": [
    {
     "data": {
      "text/plain": [
       "(2288007, 109)"
      ]
     },
     "execution_count": 1,
     "metadata": {},
     "output_type": "execute_result"
    }
   ],
   "source": [
    "import pandas as pd\n",
    "\n",
    "data_train = pd.read_csv(\"tap_fun_train.csv\")\n",
    "#data_test = pd.read_csv(\"tap_fun_test.csv\")\n",
    "data_train.shape"
   ]
  },
  {
   "cell_type": "code",
   "execution_count": null,
   "metadata": {},
   "outputs": [],
   "source": []
  },
  {
   "cell_type": "code",
   "execution_count": 2,
   "metadata": {},
   "outputs": [],
   "source": [
    "def make_lable(X):\n",
    "    X['lable'] = 0\n",
    "    X['lable'] = X.apply(lambda x: 1 if(x['pay_price']<x['prediction_pay_price'] and x['pay_price']!=0) else x['lable'],axis=1)\n",
    "    print 'lable1'\n",
    "    X['lable'] = X.apply(lambda x: 2 if(x['pay_price']==x['prediction_pay_price'] and x['pay_price']!=0) else x['lable'],axis=1)\n",
    "    print 'lable2'\n",
    "    X['lable'] = X.apply(lambda x: 3 if(x['pay_price']<x['prediction_pay_price'] and x['pay_price']==0) else x['lable'],axis=1)\n",
    "    print 'lable3'\n",
    "    X['lable'] = X.apply(lambda x: 4 if(x['pay_price']==x['prediction_pay_price'] and x['pay_price']==0) else x['lable'],axis=1)\n",
    "    print 'lable4'\n",
    "    return X"
   ]
  },
  {
   "cell_type": "code",
   "execution_count": null,
   "metadata": {},
   "outputs": [],
   "source": [
    "data_train = make_lable(data_train)\n",
    "data_train.shape"
   ]
  },
  {
   "cell_type": "code",
   "execution_count": 2,
   "metadata": {
    "scrolled": true
   },
   "outputs": [
    {
     "name": "stdout",
     "output_type": "stream",
     "text": [
      "(11309, 110)\n",
      "(30130, 110)\n",
      "(4549, 110)\n",
      "(2242019, 110)\n"
     ]
    }
   ],
   "source": [
    "lable1 = data_train[data_train['lable']==1]\n",
    "print lable1.shape\n",
    "lable2 = data_train[data_train['lable']==2]\n",
    "print lable2.shape\n",
    "lable3 = data_train[data_train['lable']==3]\n",
    "print lable3.shape\n",
    "lable4 = data_train[data_train['lable']==4]\n",
    "print lable4.shape"
   ]
  },
  {
   "cell_type": "code",
   "execution_count": 3,
   "metadata": {},
   "outputs": [],
   "source": [
    "lable1.to_csv('lable1.csv',index=None)\n",
    "lable2.to_csv('lable2.csv',index=None)\n",
    "lable3.to_csv('lable3.csv',index=None)\n",
    "lable4.to_csv('lable4.csv',index=None)"
   ]
  },
  {
   "cell_type": "code",
   "execution_count": 1,
   "metadata": {},
   "outputs": [
    {
     "data": {
      "text/plain": [
       "(2288007, 110)"
      ]
     },
     "execution_count": 1,
     "metadata": {},
     "output_type": "execute_result"
    }
   ],
   "source": [
    "import pandas as pd\n",
    "\n",
    "data_train = pd.read_csv(\"tap_fun_train_lable.csv\")\n",
    "#data_test = pd.read_csv(\"tap_fun_test.csv\")\n",
    "data_train.shape"
   ]
  },
  {
   "cell_type": "code",
   "execution_count": 2,
   "metadata": {},
   "outputs": [],
   "source": [
    "import lightgbm as lgb\n",
    "import numpy as np\n",
    "import pandas as pd\n",
    "from sklearn.model_selection import train_test_split   # cross_validation\n",
    "from sklearn.linear_model import RidgeClassifierCV,RidgeClassifier\n",
    "from sklearn.ensemble import RandomForestClassifier, GradientBoostingClassifier,AdaBoostClassifier,BaggingClassifier\n",
    "from sklearn.preprocessing import MinMaxScaler, StandardScaler\n",
    "from sklearn.metrics import accuracy_score\n",
    "from sklearn.decomposition import PCA, KernelPCA\n",
    "from sklearn.base import BaseEstimator, TransformerMixin\n",
    "from sklearn.pipeline import Pipeline, make_pipeline\n",
    "from sklearn.model_selection import GridSearchCV\n",
    "from sklearn.naive_bayes import BernoulliNB,GaussianNB\n",
    "from sklearn.neighbors import RadiusNeighborsClassifier,NearestCentroid,KNeighborsClassifier\n",
    "from sklearn.semi_supervised import LabelPropagation,LabelSpreading\n",
    "from sklearn.discriminant_analysis import QuadraticDiscriminantAnalysis,LinearDiscriminantAnalysis\n",
    "from sklearn.neural_network import MLPClassifier\n",
    "import gc\n",
    "import warnings\n",
    "warnings.filterwarnings('ignore')"
   ]
  },
  {
   "cell_type": "code",
   "execution_count": 5,
   "metadata": {},
   "outputs": [],
   "source": [
    "class add_feature(BaseEstimator, TransformerMixin):\n",
    "    def __init__(self,additional=1):\n",
    "        self.additional = additional\n",
    "    \n",
    "    def fit(self,X,y=None):\n",
    "        return self\n",
    "        \n",
    "    def transform(self,X):    \n",
    "#        data[\"wkd\"] = all_data.register_time.dt.weekday\n",
    "        dt1=pd.to_datetime(X[\"register_time\"])\n",
    "        X[\"register_time\"] = dt1\n",
    "        X[\"wkd\"] = dt1.dt.weekday\n",
    "        X[\"day\"] = dt1.dt.day\n",
    "        X[\"hour\"] = dt1.dt.hour\n",
    "        X[\"day_in_year\"] = dt1.dt.dayofyear\n",
    "        X[\"days_spfest\"] = X[\"register_time\"].map(lambda x: (x - pd.to_datetime(\"2018-02-16\")).days)\n",
    "#         data =  data.merge(wkd_hour_df,on=[\"wkd\",\"hour\"],how = \"left\")\n",
    "#         data[\"day\"] = data.register_time.dt.day\n",
    "#         data[\"month\"] = data.register_time.dt.month\n",
    "#         data[\"day_in_year\"] = data.register_time.dt.dayofyear\n",
    "#         data[\"days_spfest\"] = data[\"register_time\"].map(lambda x: (x - pd.to_datetime(\"2018-02-16\")).days)\n",
    "\n",
    "        X = X.drop([\"register_time\"],axis=1)\n",
    "        if \"prediction_pay_price\" in X.columns:\n",
    "            X = X.drop(\"prediction_pay_price\",axis=1)\n",
    "        X[\"price_per\"] = (X[\"pay_price\"]+0.1)/(X[\"pay_count\"]+0.1)\n",
    "\n",
    "        X[\"pvp_win_rate\"] = (X.pvp_win_count + 0.1)/(X.pvp_lanch_count+0.1)\n",
    "        X[\"pve_win_rate\"] = (X.pve_win_count+0.1)/(X.pve_lanch_count+0.1)\n",
    "        X[\"pvp_rate\"] = (X.pvp_lanch_count+0.1)/(X.pve_lanch_count+0.1)\n",
    "        X[\"pvp_vs_pve_win\"] = (X.pvp_win_count+0.1)/(X.pve_win_count+0.1)\n",
    "        \n",
    "        X['wood'] = X['wood_add_value'] - X['wood_reduce_value'] \n",
    "        X['stone'] = X['stone_add_value'] - X['stone_reduce_value'] \n",
    "        X['ivory'] = X['ivory_add_value']  - X['ivory_reduce_value'] \n",
    "        X['meat'] =  X['meat_add_value'] - X['meat_reduce_value']\n",
    "        X['magic'] =  X['magic_add_value'] - X['magic_reduce_value']\n",
    "        X['infantry'] = X['infantry_add_value'] - X['infantry_reduce_value'] \n",
    "        X['cavalry'] = X['cavalry_add_value'] - X['cavalry_reduce_value'] \n",
    "        X['shaman'] = X['shaman_add_value'] - X['shaman_reduce_value'] \n",
    "        X['wound_infantry'] = X['wound_infantry_add_value'] - X['wound_infantry_reduce_value'] \n",
    "        X['wound_cavalry'] =  X['wound_cavalry_add_value'] - X['wound_cavalry_reduce_value']\n",
    "        X['wound_shaman'] = X['wound_shaman_add_value'] - X['wound_shaman_reduce_value'] \n",
    "        X['general_acceleration'] = X['general_acceleration_reduce_value'] - X['general_acceleration_add_value'] \n",
    "        X['building_acceleration'] = X['building_acceleration_add_value'] - X['building_acceleration_reduce_value']\n",
    "        X['reaserch_acceleration'] = X['reaserch_acceleration_add_value'] -  X['reaserch_acceleration_reduce_value']\n",
    "        X['training_acceleration'] =  X['training_acceleration_add_value'] - X['training_acceleration_reduce_value']\n",
    "        X['treatment_acceleration'] =  X['treatment_acceleraion_add_value'] - X['treatment_acceleration_reduce_value'] \n",
    "        \n",
    "#         X = X.merge(hour_mean,on=\"hour\",how = \"left\")\n",
    "#         X = X.merge(wkd_mean,on=\"wkd\",how=\"left\")\n",
    "#         X = X.merge(dayinyear_mean,how=\"left\",on=\"day_in_year\")\n",
    "#         X = X.merge(dayinyear_hr_mean,how=\"left\",on=[\"day_in_year\",\"hour\"])   \n",
    "        X[\"avg_pay_price\"] = X.pay_price/(X.avg_online_minutes+0.01)\n",
    "        X[\"avg_pay_count\"] = X.pay_count/(X.avg_online_minutes+0.01)\n",
    "        X.loc[X.avg_online_minutes == 0,\"avg_pay_price\"] = 0\n",
    "        X.loc[X.avg_online_minutes == 0,\"avg_pay_count\"] = 0\n",
    "        X[\"build_remain\"] = X.building_acceleration_add_value - X.building_acceleration_reduce_value\n",
    "        X[\"build_use_rate\"] = (X.building_acceleration_reduce_value + 0.1)/(X.building_acceleration_add_value + 0.1)\n",
    "        X[\"treat_remain\"] = X.treatment_acceleraion_add_value - X.treatment_acceleration_reduce_value\n",
    "        X[\"treat_use_rate\"] = (X.treatment_acceleration_reduce_value+0.1)/(X.treatment_acceleraion_add_value+0.1)\n",
    "        X[\"res_remain\"] = X.reaserch_acceleration_add_value - X.reaserch_acceleration_reduce_value\n",
    "        X[\"res_use_rate\"] = (X.reaserch_acceleration_reduce_value+ 0.1)/(X.reaserch_acceleration_add_value+ 0.1)\n",
    "        #X.loc[X.avg_online_minutes == 0,\"avg_acce_add\"] = 0\n",
    "        bd_cols_lv = [col for col in X.columns if col.startswith(\"bd\")]\n",
    "        sr_cols_lv = [col for col in X.columns if col.startswith(\"sr\")]\n",
    "        X[\"pve_vs_price\"] = X[\"pve_win_count\"]/(X[\"pay_price\"]+0.1)\n",
    "        X[\"pvp_vs_price\"] = X[\"pvp_win_count\"]/(X[\"pay_price\"]+0.1)\n",
    "        X[\"total_bd_lv\"] = X[bd_cols_lv].sum(axis=1)\n",
    "        X[\"total_sr_lv\"] = X[sr_cols_lv].sum(axis=1)\n",
    "        X[\"total_lv\"] = X[\"total_bd_lv\"] + X[\"total_sr_lv\"]\n",
    "        X[\"sr_prod_lv\"] = X[['sr_rss_a_prod_levell','sr_rss_b_prod_level','sr_rss_c_prod_level','sr_rss_d_prod_level']].sum(axis=1)\n",
    "        X[\"ivory_use_rate\"] = (X[\"ivory_reduce_value\"] + 0.1)/(X[\"ivory_add_value\"] + 0.1)\n",
    "        X[\"ivory_remain\"] = X[\"ivory_add_value\"] - X[\"ivory_reduce_value\"]\n",
    "        gc.collect()\n",
    "        return X"
   ]
  },
  {
   "cell_type": "code",
   "execution_count": 6,
   "metadata": {},
   "outputs": [],
   "source": [
    "pipe = Pipeline([\n",
    "    ('add_feature', add_feature(additional=2))\n",
    "    ])\n",
    "\n",
    "data_train = pipe.fit_transform(data_train)"
   ]
  },
  {
   "cell_type": "code",
   "execution_count": 3,
   "metadata": {},
   "outputs": [
    {
     "data": {
      "text/plain": [
       "(2288007, 108)"
      ]
     },
     "execution_count": 3,
     "metadata": {},
     "output_type": "execute_result"
    }
   ],
   "source": [
    "data_train.drop(['user_id'],axis=1, inplace=True)\n",
    "if \"prediction_pay_price\" in data_train.columns:\n",
    "    data_train = data_train.drop(\"prediction_pay_price\",axis=1)\n",
    "    dt1=pd.to_datetime(data_train[\"register_time\"])\n",
    "    data_train[\"register_time\"] = dt1.dt.dayofyear\n",
    "data_train.shape"
   ]
  },
  {
   "cell_type": "code",
   "execution_count": 9,
   "metadata": {},
   "outputs": [],
   "source": [
    "data_train['lable_2'] = data_train['lable']\n",
    "del data_train['lable']\n",
    "data_train.rename(columns={'lable_2':'lable'}, inplace = True)"
   ]
  },
  {
   "cell_type": "code",
   "execution_count": 4,
   "metadata": {},
   "outputs": [
    {
     "data": {
      "text/plain": [
       "((2288007, 107), Index([u'lable'], dtype='object'))"
      ]
     },
     "execution_count": 4,
     "metadata": {},
     "output_type": "execute_result"
    }
   ],
   "source": [
    "x, y = data_train.iloc[:, 0:len(data_train.columns)-1], data_train.iloc[:,len(data_train.columns)-1:]\n",
    "x.shape,y.columns"
   ]
  },
  {
   "cell_type": "code",
   "execution_count": 11,
   "metadata": {},
   "outputs": [],
   "source": [
    "x = MinMaxScaler().fit_transform(x)"
   ]
  },
  {
   "cell_type": "code",
   "execution_count": 12,
   "metadata": {},
   "outputs": [],
   "source": [
    "pca = PCA(n_components=100)"
   ]
  },
  {
   "cell_type": "code",
   "execution_count": 13,
   "metadata": {},
   "outputs": [
    {
     "name": "stdout",
     "output_type": "stream",
     "text": [
      "(91976L, 100L)\n"
     ]
    }
   ],
   "source": [
    "x=pca.fit_transform(x)\n",
    "print x.shape"
   ]
  },
  {
   "cell_type": "code",
   "execution_count": 5,
   "metadata": {},
   "outputs": [],
   "source": [
    "x_train, x_test, y_train, y_test = train_test_split(x, y, random_state=1, test_size=0.5)"
   ]
  },
  {
   "cell_type": "code",
   "execution_count": 7,
   "metadata": {
    "scrolled": true
   },
   "outputs": [],
   "source": [
    "# lr = RidgeClassifierCV(alphas=np.logspace(-3, 3, 10), cv=3)\n",
    "# lr.fit(x_train, y_train)\n",
    "# print u'参数alpha=%.2f' % lr.alpha_\n",
    "# y_train_pred = lr.predict(x_train)\n",
    "# y_test_pred = lr.predict(x_test)\n",
    "# print u'Logistic回归训练集准确率：', accuracy_score(y_train, y_train_pred)\n",
    "# print u'Logistic回归测试集准确率：', accuracy_score(y_test, y_test_pred)\n",
    "\n",
    "rf = RandomForestClassifier(n_estimators=100, max_depth=8, min_samples_split=5, oob_score=True)\n",
    "rf.fit(x_train, y_train)\n",
    "print u'OOB Score=%.5f' % rf.oob_score_\n",
    "y_train_pred = rf.predict(x_train)\n",
    "y_test_pred = rf.predict(x_test)\n",
    "print u'随机森林训练集准确率：', accuracy_score(y_train, y_train_pred)\n",
    "print u'随机森林测试集准确率：', accuracy_score(y_test, y_test_pred)\n"
   ]
  },
  {
   "cell_type": "code",
   "execution_count": 13,
   "metadata": {
    "scrolled": true
   },
   "outputs": [
    {
     "name": "stdout",
     "output_type": "stream",
     "text": [
      "GBDT训练集准确率： 0.9959038568954802\n",
      "GBDT测试集准确率： 0.9944414530019126\n"
     ]
    }
   ],
   "source": [
    "gb = GradientBoostingClassifier(n_estimators=100, learning_rate=0.1, max_depth=5)\n",
    "gb.fit(x_train, y_train)\n",
    "y_train_pred = gb.predict(x_train)\n",
    "y_test_pred = gb.predict(x_test)\n",
    "print u'GBDT训练集准确率：', accuracy_score(y_train, y_train_pred)\n",
    "print u'GBDT测试集准确率：', accuracy_score(y_test, y_test_pred)"
   ]
  },
  {
   "cell_type": "code",
   "execution_count": 8,
   "metadata": {
    "scrolled": false
   },
   "outputs": [
    {
     "name": "stdout",
     "output_type": "stream",
     "text": [
      "Training until validation scores don't improve for 100 rounds.\n",
      "[10]\tvalid's auc: 0.00205102\n",
      "[20]\tvalid's auc: 0.00202161\n",
      "[30]\tvalid's auc: 0.00202037\n",
      "[40]\tvalid's auc: 0.00201462\n",
      "[50]\tvalid's auc: 0.00201275\n",
      "[60]\tvalid's auc: 0.00200585\n",
      "[70]\tvalid's auc: 0.00199781\n",
      "[80]\tvalid's auc: 0.00199582\n",
      "[90]\tvalid's auc: 0.00198723\n",
      "[100]\tvalid's auc: 0.0019806\n",
      "Early stopping, best iteration is:\n",
      "[1]\tvalid's auc: 0.00233898\n",
      "lgb训练集准确率： 0.9950673206276557\n",
      "lgb测试集准确率： 0.994323446421516\n"
     ]
    }
   ],
   "source": [
    "def lightGBM(train_x,train_y,validation_x,validation_y):\n",
    "    clf = lgb.LGBMClassifier(num_leaves= 127, \n",
    "                             max_depth=10,\n",
    "                             num_class=4,\n",
    "                             silent=True,\n",
    "                             metric='auc',\n",
    "                             n_jobs=8, \n",
    "                             n_estimators=1000,\n",
    "                             colsample_bytree=0.9,\n",
    "                             subsample=0.9,\n",
    "                             learning_rate=0.01\n",
    "                            )\n",
    "#     clf = lgb.LGBMClassifier(boosting_type='gbdt',\n",
    "#                              num_class=4, \n",
    "#                              num_leaves=55, \n",
    "#                              reg_alpha=0.0, \n",
    "#                              reg_lambda=1,\n",
    "#                              max_depth=12, \n",
    "#                              n_estimators=1000, \n",
    "#                              objective='multiclass',\n",
    "#                              subsample=0.8, \n",
    "#                              colsample_bytree=0.8, \n",
    "#                              subsample_freq=1,\n",
    "#                              learning_rate=0.01, \n",
    "#                              min_child_weight=1, \n",
    "#                              random_state=20, \n",
    "#                              n_jobs=4\n",
    "#                             )\n",
    "    \n",
    "    # clf.fit(train_x, train_y, **fit_params)\n",
    "    clf.fit(train_x,\n",
    "    train_y,\n",
    "    early_stopping_rounds=100,\n",
    "    eval_metric= 'auc', \n",
    "            eval_set = [(validation_x,validation_y)],\n",
    "            eval_names = ['valid'],\n",
    "            verbose= 10\n",
    "    )\n",
    "         \n",
    "    return clf\n",
    "\n",
    "clf = lightGBM(x_train,y_train, x_test, y_test)\n",
    "y_train_pred = clf.predict(x_train)\n",
    "y_test_pred = clf.predict(x_test)\n",
    "print u'lgb训练集准确率：', accuracy_score(y_train, y_train_pred)\n",
    "print u'lgb测试集准确率：', accuracy_score(y_test, y_test_pred)\n"
   ]
  },
  {
   "cell_type": "code",
   "execution_count": 6,
   "metadata": {},
   "outputs": [
    {
     "name": "stdout",
     "output_type": "stream",
     "text": [
      "dtc训练集准确率： 0.9998706297098872\n",
      "dtc测试集准确率： 0.990913493309464\n"
     ]
    },
    {
     "name": "stderr",
     "output_type": "stream",
     "text": [
      "F:\\zhangzhenhua\\anaconda2.7\\lib\\site-packages\\ipykernel_launcher.py:16: DataConversionWarning: A column-vector y was passed when a 1d array was expected. Please change the shape of y to (n_samples,), for example using ravel().\n",
      "  app.launch_new_instance()\n"
     ]
    },
    {
     "name": "stdout",
     "output_type": "stream",
     "text": [
      "etc训练集准确率： 0.9998706297098872\n",
      "etc测试集准确率： 0.9934169810595068\n"
     ]
    }
   ],
   "source": [
    "from sklearn.model_selection import cross_val_score\n",
    "from sklearn.datasets import make_blobs\n",
    "from sklearn.ensemble import RandomForestClassifier\n",
    "from sklearn.ensemble import ExtraTreesClassifier\n",
    "from sklearn.tree import DecisionTreeClassifier\n",
    "\n",
    "dtc = DecisionTreeClassifier(max_depth=None, min_samples_split=2,random_state=0)\n",
    "dtc.fit(x_train, y_train)\n",
    "y_train_pred = dtc.predict(x_train)\n",
    "y_test_pred = dtc.predict(x_test)\n",
    "print u'dtc训练集准确率：', accuracy_score(y_train, y_train_pred)\n",
    "print u'dtc测试集准确率：', accuracy_score(y_test, y_test_pred)                           \n",
    "                          \n",
    "\n",
    "etc = ExtraTreesClassifier(n_estimators=10, max_depth=None,min_samples_split=2, random_state=0)\n",
    "etc.fit(x_train, y_train)\n",
    "y_train_pred = etc.predict(x_train)\n",
    "y_test_pred = etc.predict(x_test)\n",
    "print u'etc训练集准确率：', accuracy_score(y_train, y_train_pred)\n",
    "print u'etc测试集准确率：', accuracy_score(y_test, y_test_pred)"
   ]
  },
  {
   "cell_type": "code",
   "execution_count": 7,
   "metadata": {},
   "outputs": [],
   "source": []
  },
  {
   "cell_type": "code",
   "execution_count": 7,
   "metadata": {},
   "outputs": [
    {
     "name": "stderr",
     "output_type": "stream",
     "text": [
      "F:\\zhangzhenhua\\anaconda2.7\\lib\\site-packages\\sklearn\\utils\\validation.py:578: DataConversionWarning: A column-vector y was passed when a 1d array was expected. Please change the shape of y to (n_samples, ), for example using ravel().\n",
      "  y = column_or_1d(y, warn=True)\n"
     ]
    },
    {
     "name": "stdout",
     "output_type": "stream",
     "text": [
      "bn训练集准确率： 0.9029950096284712\n",
      "bn测试集准确率： 0.9028281369645561\n"
     ]
    }
   ],
   "source": [
    "bnb = BernoulliNB()\n",
    "bnb.fit(x_train, y_train)\n",
    "y_train_pred = bnb.predict(x_train)\n",
    "y_test_pred = bnb.predict(x_test)\n",
    "print u'bnb训练集准确率：', accuracy_score(y_train, y_train_pred)\n",
    "print u'bnb测试集准确率：', accuracy_score(y_test, y_test_pred)  "
   ]
  },
  {
   "cell_type": "code",
   "execution_count": 10,
   "metadata": {},
   "outputs": [
    {
     "name": "stdout",
     "output_type": "stream",
     "text": [
      "gn训练集准确率： 0.9661390748101185\n",
      "gn测试集准确率： 0.9660761675658477\n"
     ]
    }
   ],
   "source": [
    "bayes = GaussianNB() \n",
    "bayes.fit(x_train, y_train)\n",
    "y_train_pred = bayes.predict(x_train)\n",
    "y_test_pred = bayes.predict(x_test)\n",
    "print u'bayes训练集准确率：', accuracy_score(y_train, y_train_pred)\n",
    "print u'bayes测试集准确率：', accuracy_score(y_test, y_test_pred)  "
   ]
  },
  {
   "cell_type": "code",
   "execution_count": 6,
   "metadata": {},
   "outputs": [],
   "source": [
    "lp = LabelPropagation()#MemoryError\n",
    "lp.fit(x_train, y_train)\n",
    "y_train_pred = lp.predict(x_train)\n",
    "y_test_pred = lp.predict(x_test)\n",
    "print u'lp训练集准确率：', accuracy_score(y_train, y_train_pred)\n",
    "print u'lp测试集准确率：', accuracy_score(y_test, y_test_pred)  "
   ]
  },
  {
   "cell_type": "code",
   "execution_count": 23,
   "metadata": {},
   "outputs": [
    {
     "name": "stdout",
     "output_type": "stream",
     "text": [
      "rc训练集准确率： 0.9848802844048485\n",
      "rc测试集准确率： 0.9847867664798374\n"
     ]
    }
   ],
   "source": [
    "RidgeClassifier()\n",
    "rc.fit(x_train, y_train)\n",
    "y_train_pred = rc.predict(x_train)\n",
    "y_test_pred = rc.predict(x_test)\n",
    "print u'rc训练集准确率：', accuracy_score(y_train, y_train_pred)\n",
    "print u'rc测试集准确率：', accuracy_score(y_test, y_test_pred)  "
   ]
  },
  {
   "cell_type": "code",
   "execution_count": null,
   "metadata": {},
   "outputs": [
    {
     "name": "stderr",
     "output_type": "stream",
     "text": [
      "F:\\zhangzhenhua\\anaconda2.7\\lib\\site-packages\\ipykernel_launcher.py:2: DataConversionWarning: A column-vector y was passed when a 1d array was expected. Please change the shape of y to (n_samples, ), for example using ravel().\n",
      "  \n"
     ]
    }
   ],
   "source": [
    "rnc = RadiusNeighborsClassifier() #MemoryError\n",
    "rnc.fit(x_train, y_train)\n",
    "y_train_pred = rnc.predict(x_train)\n",
    "y_test_pred = rnc.predict(x_test)\n",
    "print u'rnc训练集准确率：', accuracy_score(y_train, y_train_pred)\n",
    "print u'rnc测试集准确率：', accuracy_score(y_test, y_test_pred) "
   ]
  },
  {
   "cell_type": "code",
   "execution_count": 7,
   "metadata": {},
   "outputs": [
    {
     "name": "stderr",
     "output_type": "stream",
     "text": [
      "F:\\zhangzhenhua\\anaconda2.7\\lib\\site-packages\\sklearn\\utils\\validation.py:578: DataConversionWarning: A column-vector y was passed when a 1d array was expected. Please change the shape of y to (n_samples, ), for example using ravel().\n",
      "  y = column_or_1d(y, warn=True)\n",
      "F:\\zhangzhenhua\\anaconda2.7\\lib\\site-packages\\sklearn\\discriminant_analysis.py:682: UserWarning: Variables are collinear\n",
      "  warnings.warn(\"Variables are collinear\")\n"
     ]
    },
    {
     "name": "stdout",
     "output_type": "stream",
     "text": [
      "qda训练集准确率： 0.9578908446918408\n",
      "qda测试集准确率： 0.9578060915870924\n"
     ]
    }
   ],
   "source": [
    "qda = QuadraticDiscriminantAnalysis() \n",
    "qda.fit(x_train, y_train)\n",
    "y_train_pred = qda.predict(x_train)\n",
    "y_test_pred = qda.predict(x_test)\n",
    "print u'qda训练集准确率：', accuracy_score(y_train, y_train_pred)\n",
    "print u'qda测试集准确率：', accuracy_score(y_test, y_test_pred)"
   ]
  },
  {
   "cell_type": "code",
   "execution_count": null,
   "metadata": {},
   "outputs": [],
   "source": [
    "nc = NearestCentroid() \n",
    "nc.fit(x_train, y_train)\n",
    "y_train_pred = nc.predict(x_train)\n",
    "y_test_pred = nc.predict(x_test)\n",
    "print u'nc训练集准确率：', accuracy_score(y_train, y_train_pred)\n",
    "print u'cn测试集准确率：', accuracy_score(y_test, y_test_pred) "
   ]
  },
  {
   "cell_type": "code",
   "execution_count": null,
   "metadata": {},
   "outputs": [],
   "source": [
    "mlp = sklearn.neural_network.MLPClassifier() \n",
    "mlp.fit(x_train, y_train)\n",
    "y_train_pred = mlp.predict(x_train)\n",
    "y_test_pred = mlp.predict(x_test)\n",
    "print u'mlp训练集准确率：', accuracy_score(y_train, y_train_pred)\n",
    "print u'mlp测试集准确率：', accuracy_score(y_test, y_test_pred)  "
   ]
  },
  {
   "cell_type": "code",
   "execution_count": 12,
   "metadata": {},
   "outputs": [
    {
     "name": "stderr",
     "output_type": "stream",
     "text": [
      "F:\\zhangzhenhua\\anaconda2.7\\lib\\site-packages\\sklearn\\discriminant_analysis.py:388: UserWarning: Variables are collinear.\n",
      "  warnings.warn(\"Variables are collinear.\")\n"
     ]
    },
    {
     "name": "stdout",
     "output_type": "stream",
     "text": [
      "lda训练集准确率： 0.9757063574133984\n",
      "lda测试集准确率： 0.9757090010174789\n"
     ]
    }
   ],
   "source": [
    "lda = LinearDiscriminantAnalysis() \n",
    "lda.fit(x_train, y_train)\n",
    "y_train_pred = lda.predict(x_train)\n",
    "y_test_pred = lda.predict(x_test)\n",
    "print u'lda训练集准确率：', accuracy_score(y_train, y_train_pred)\n",
    "print u'lda测试集准确率：', accuracy_score(y_test, y_test_pred) "
   ]
  },
  {
   "cell_type": "code",
   "execution_count": 7,
   "metadata": {},
   "outputs": [],
   "source": [
    "ls = LabelSpreading() #MemoryError \n",
    "ls.fit(x_train, y_train)\n",
    "y_train_pred = ls.predict(x_train)\n",
    "y_test_pred = ls.predict(x_test)\n",
    "print u'ls训练集准确率：', accuracy_score(y_train, y_train_pred)\n",
    "print u'ls测试集准确率：', accuracy_score(y_test, y_test_pred) "
   ]
  },
  {
   "cell_type": "code",
   "execution_count": 9,
   "metadata": {},
   "outputs": [
    {
     "name": "stderr",
     "output_type": "stream",
     "text": [
      "F:\\zhangzhenhua\\anaconda2.7\\lib\\site-packages\\ipykernel_launcher.py:2: DataConversionWarning: A column-vector y was passed when a 1d array was expected. Please change the shape of y to (n_samples, ), for example using ravel().\n",
      "  \n"
     ]
    },
    {
     "name": "stdout",
     "output_type": "stream",
     "text": [
      "knc训练集准确率： 0.9896774746220071\n",
      "knc测试集准确率： 0.9869222485236065\n"
     ]
    }
   ],
   "source": [
    "knc = KNeighborsClassifier() \n",
    "knc.fit(x_train, y_train)\n",
    "y_train_pred = knc.predict(x_train)\n",
    "y_test_pred = knc.predict(x_test)\n",
    "print u'knc训练集准确率：', accuracy_score(y_train, y_train_pred)\n",
    "print u'knc测试集准确率：', accuracy_score(y_test, y_test_pred) "
   ]
  },
  {
   "cell_type": "code",
   "execution_count": 6,
   "metadata": {},
   "outputs": [
    {
     "name": "stdout",
     "output_type": "stream",
     "text": [
      "bagging训练集准确率： 0.9995585675911689\n",
      "bagging测试集准确率： 0.9939257205394387\n"
     ]
    }
   ],
   "source": [
    "bagging = BaggingClassifier()\n",
    "bagging.fit(x_train, y_train)\n",
    "y_train_pred = bagging.predict(x_train)\n",
    "y_test_pred = bagging.predict(x_test)\n",
    "print u'bagging训练集准确率：', accuracy_score(y_train, y_train_pred)\n",
    "print u'bagging测试集准确率：', accuracy_score(y_test, y_test_pred) "
   ]
  },
  {
   "cell_type": "code",
   "execution_count": 6,
   "metadata": {},
   "outputs": [
    {
     "name": "stdout",
     "output_type": "stream",
     "text": [
      "Ada训练集准确率： 0.9931040390628346\n",
      "Ada测试集准确率： 0.9930341152653313\n"
     ]
    }
   ],
   "source": [
    "Ada = AdaBoostClassifier()\n",
    "Ada.fit(x_train, y_train)\n",
    "y_train_pred = Ada.predict(x_train)\n",
    "y_test_pred = Ada.predict(x_test)\n",
    "print u'Ada训练集准确率：', accuracy_score(y_train, y_train_pred)\n",
    "print u'Ada测试集准确率：', accuracy_score(y_test, y_test_pred) "
   ]
  },
  {
   "cell_type": "code",
   "execution_count": null,
   "metadata": {},
   "outputs": [],
   "source": []
  },
  {
   "cell_type": "code",
   "execution_count": 7,
   "metadata": {},
   "outputs": [],
   "source": [
    "all_test=pd.read_csv('tap_fun_test.csv')"
   ]
  },
  {
   "cell_type": "code",
   "execution_count": 8,
   "metadata": {},
   "outputs": [],
   "source": [
    "fit_data = all_test.iloc[:,1:108]\n",
    "dt1=pd.to_datetime(fit_data[\"register_time\"])\n",
    "fit_data[\"register_time\"] = dt1.dt.dayofyear"
   ]
  },
  {
   "cell_type": "code",
   "execution_count": 9,
   "metadata": {
    "scrolled": true
   },
   "outputs": [],
   "source": [
    "y_pred = bagging.predict(fit_data.values)\n",
    "y_pred = pd.DataFrame(y_pred)\n",
    "all_test['lable']=y_pred"
   ]
  },
  {
   "cell_type": "code",
   "execution_count": 10,
   "metadata": {
    "scrolled": false
   },
   "outputs": [
    {
     "name": "stdout",
     "output_type": "stream",
     "text": [
      "Index([u'user_id', u'register_time', u'wood_add_value', u'wood_reduce_value',\n",
      "       u'stone_add_value', u'stone_reduce_value', u'ivory_add_value',\n",
      "       u'ivory_reduce_value', u'meat_add_value', u'meat_reduce_value',\n",
      "       ...\n",
      "       u'pvp_battle_count', u'pvp_lanch_count', u'pvp_win_count',\n",
      "       u'pve_battle_count', u'pve_lanch_count', u'pve_win_count',\n",
      "       u'avg_online_minutes', u'pay_price', u'pay_count', u'lable'],\n",
      "      dtype='object', length=109)\n"
     ]
    }
   ],
   "source": [
    "print all_test.columns\n",
    "all_test.to_csv('tap_fun_test_lable_bagging.csv',index=None)"
   ]
  },
  {
   "cell_type": "code",
   "execution_count": 11,
   "metadata": {},
   "outputs": [
    {
     "name": "stdout",
     "output_type": "stream",
     "text": [
      "(5313, 109)\n",
      "(14236, 109)\n",
      "(194, 109)\n",
      "(809191, 109)\n"
     ]
    }
   ],
   "source": [
    "lable1 = all_test[all_test['lable']==1]\n",
    "print lable1.shape\n",
    "lable2 = all_test[all_test['lable']==2]\n",
    "print lable2.shape\n",
    "lable3 = all_test[all_test['lable']==3]\n",
    "print lable3.shape\n",
    "lable4 = all_test[all_test['lable']==4]\n",
    "print lable4.shape"
   ]
  },
  {
   "cell_type": "code",
   "execution_count": 30,
   "metadata": {},
   "outputs": [],
   "source": [
    "all_test['prediction_pay_price'] = 0\n",
    "all_test['prediction_pay_price'] = all_test.apply(lambda x: 4.26*x['pay_price'] if(x['lable'] == 1 ) else x['prediction_pay_price'],axis=1)\n",
    "print 'lable1'\n",
    "all_test['prediction_pay_price'] = all_test.apply(lambda x: x['pay_price'] if(x['lable'] == 2 ) else x['prediction_pay_price'],axis=1)\n",
    "print 'lable2'\n",
    "all_test['prediction_pay_price'] = all_test.apply(lambda x: x['pay_price'] if(x['lable'] == 3 ) else x['prediction_pay_price'],axis=1)\n",
    "print 'lable2'"
   ]
  },
  {
   "cell_type": "code",
   "execution_count": null,
   "metadata": {},
   "outputs": [],
   "source": [
    "sklearn.naive_bayes.BernoulliNB sklearn.tree.DecisionTreeClassifier sklearn.tree.ExtraTreeClassifier sklearn.ensemble.ExtraTreesClassifier sklearn.naive_bayes.GaussianNB sklearn.neighbors.KNeighborsClassifier sklearn.semi_supervised.LabelPropagation sklearn.semi_supervised.LabelSpreading sklearn.discriminant_analysis.LinearDiscriminantAnalysis sklearn.svm.LinearSVC (setting multi_class=”crammer_singer”) sklearn.linear_model.LogisticRegression (setting multi_class=”multinomial”) sklearn.linear_model.LogisticRegressionCV (setting multi_class=”multinomial”) sklearn.neural_network.MLPClassifier sklearn.neighbors.NearestCentroid sklearn.discriminant_analysis.QuadraticDiscriminantAnalysis sklearn.neighbors.RadiusNeighborsClassifier sklearn.ensemble.RandomForestClassifier sklearn.linear_model.RidgeClassifier sklearn.linear_model.RidgeClassifierCV"
   ]
  }
 ],
 "metadata": {
  "kernelspec": {
   "display_name": "Python 2",
   "language": "python",
   "name": "python2"
  },
  "language_info": {
   "codemirror_mode": {
    "name": "ipython",
    "version": 2
   },
   "file_extension": ".py",
   "mimetype": "text/x-python",
   "name": "python",
   "nbconvert_exporter": "python",
   "pygments_lexer": "ipython2",
   "version": "2.7.15"
  }
 },
 "nbformat": 4,
 "nbformat_minor": 2
}
