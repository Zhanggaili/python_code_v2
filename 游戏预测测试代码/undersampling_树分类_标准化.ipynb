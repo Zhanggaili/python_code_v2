{
 "cells": [
  {
   "cell_type": "code",
   "execution_count": 1,
   "metadata": {
    "scrolled": true
   },
   "outputs": [
    {
     "name": "stdout",
     "output_type": "stream",
     "text": [
      "Rate to undersample records with target=0: 0.0205118689895\n",
      "Number of records with target=0 after undersampling: 45988\n",
      "Rate to undersample records with target=0: 0.0205118689895\n",
      "Number of records with target=0 after undersampling: 45988\n",
      "Rate to undersample records with target=0: 0.0205118689895\n",
      "Number of records with target=0 after undersampling: 45988\n",
      "Rate to undersample records with target=0: 0.0205118689895\n",
      "Number of records with target=0 after undersampling: 45988\n",
      "Rate to undersample records with target=0: 0.0205118689895\n",
      "Number of records with target=0 after undersampling: 45988\n",
      "Rate to undersample records with target=0: 0.0205118689895\n",
      "Number of records with target=0 after undersampling: 45988\n",
      "Rate to undersample records with target=0: 0.0205118689895\n",
      "Number of records with target=0 after undersampling: 45988\n",
      "Rate to undersample records with target=0: 0.0205118689895\n",
      "Number of records with target=0 after undersampling: 45988\n",
      "Rate to undersample records with target=0: 0.0205118689895\n",
      "Number of records with target=0 after undersampling: 45988\n",
      "Rate to undersample records with target=0: 0.0205118689895\n",
      "Number of records with target=0 after undersampling: 45988\n"
     ]
    }
   ],
   "source": [
    "import pandas as pd\n",
    "import numpy as np\n",
    "import random\n",
    "\n",
    "def undersampling(train, desired_apriori):\n",
    "    \n",
    "    target =  train.columns[len(train.columns)-1]\n",
    "    # Get the indices per target value\n",
    "    idx_0 = train[train[target] == 0].index\n",
    "    idx_1 = train[train[target] != 0].index\n",
    "    # Get original number of records per target value\n",
    "    nb_0 = len(train.loc[idx_0])\n",
    "    nb_1 = len(train.loc[idx_1])\n",
    "    # Calculate the undersampling rate and resulting number of records with target=0\n",
    "    undersampling_rate = ((1-desired_apriori)*nb_1)/(nb_0*desired_apriori)\n",
    "    undersampled_nb_0 = int(undersampling_rate*nb_0)\n",
    "    print('Rate to undersample records with target=0: {}'.format(undersampling_rate))\n",
    "    print('Number of records with target=0 after undersampling: {}'.format(undersampled_nb_0))\n",
    "    # Randomly select records with target=0 to get at the desired a priori\n",
    "    undersampled_idx = random.sample(idx_0, undersampled_nb_0)\n",
    "    # Construct list with remaining indices\n",
    "    sampled_idx1 = random.sample(idx_1, len(idx_1))\n",
    "    idx_list = undersampled_idx + sampled_idx1\n",
    "    idx_list = random.sample(idx_list, len(idx_list))\n",
    "    # Return undersample data frame\n",
    "    train = train.loc[idx_list].reset_index(drop=True)\n",
    "    return train\n",
    "\n",
    "def easyensemble(df, desired_apriori, n_subsets=10):\n",
    "    \n",
    "    train_resample = undersampling(df, desired_apriori)\n",
    "    \n",
    "    for _ in range(n_subsets-1):\n",
    "        sel_train = undersampling(df, desired_apriori)\n",
    "        train_resample.append(sel_train)\n",
    "#         print sel_train.iloc[0:4,:5]\n",
    "#         print train_resample.iloc[0:4,:5]\n",
    "    return train_resample\n",
    "\n",
    "\n",
    "data_set = pd.read_csv(\"tap_fun_train.csv\")\n",
    "train = easyensemble(data_set, 0.5)\n",
    "# print train\n",
    "train.to_csv(\"under_sample_data.csv\",index=None)"
   ]
  },
  {
   "cell_type": "code",
   "execution_count": 3,
   "metadata": {
    "scrolled": true
   },
   "outputs": [],
   "source": [
    "import pandas as pd\n",
    "from sklearn.preprocessing import StandardScaler\n",
    "    \n",
    "all_under_sample = pd.read_csv('under_sample_data.csv')\n",
    "dt1=pd.to_datetime(all_under_sample[\"register_time\"])\n",
    "all_under_sample[\"register_time\"]=dt1.dt.dayofyear\n",
    "\n",
    "all_data = all_under_sample.iloc[0:,1:len(all_under_sample.columns)-1]\n",
    "#print all_df.head(5)\n",
    "#标准化，返回值为标准化后的数据\n",
    "all_under_sample_Standard = StandardScaler().fit_transform(all_data)\n",
    "all_under_sample_data = pd.DataFrame(all_under_sample_Standard) \n",
    "all_under_sample_data.columns = all_under_sample.columns[1:len(all_under_sample.columns)-1]\n",
    "all_under_sample_data['user_id'] = all_under_sample['user_id']\n",
    "all_under_sample_data['prediction_pay_price'] = all_under_sample['prediction_pay_price']\n",
    "all_under_sample_data.to_csv(\"under_sample_Standard_data.csv\",index=None,columns=all_under_sample.columns)\n"
   ]
  },
  {
   "cell_type": "code",
   "execution_count": 3,
   "metadata": {
    "scrolled": true
   },
   "outputs": [],
   "source": [
    "pair = [[0,1],[1,3],[3,5],[5,8],[8,15],[15,25],[25,31],[31,42],\n",
    "        [42,53],[53,60],[60,67],[67,74],[74,80],[80,82],[82,85]]\n",
    "# for i in range(len(pair)):\n",
    "#     print range(pair[i][0],pair[i][1])\n",
    "#     print x_prime_train.iloc[0:,range(pair[i][0],pair[i][1])].columns"
   ]
  },
  {
   "cell_type": "code",
   "execution_count": 20,
   "metadata": {
    "scrolled": true
   },
   "outputs": [
    {
     "name": "stdout",
     "output_type": "stream",
     "text": [
      "训练集 RMSE =  328.226057525\n",
      "测试集 RMSE =  390.461048413\n",
      "训练集 RMSE =  271.035240927\n",
      "测试集 RMSE =  340.645100777\n",
      "训练集 RMSE =  319.055703298\n",
      "测试集 RMSE =  387.895378499\n",
      "训练集 RMSE =  327.487696075\n",
      "测试集 RMSE =  390.143358934\n",
      "训练集 RMSE =  281.606357919\n",
      "测试集 RMSE =  353.368402992\n",
      "训练集 RMSE =  285.398421098\n",
      "测试集 RMSE =  353.21364106\n",
      "训练集 RMSE =  315.917273826\n",
      "测试集 RMSE =  376.756440339\n",
      "训练集 RMSE =  301.289211998\n",
      "测试集 RMSE =  371.366825909\n",
      "训练集 RMSE =  288.322092036\n",
      "测试集 RMSE =  355.526660556\n",
      "训练集 RMSE =  325.122783305\n",
      "测试集 RMSE =  389.089413079\n",
      "训练集 RMSE =  325.584375614\n",
      "测试集 RMSE =  389.579699207\n",
      "训练集 RMSE =  318.048343289\n",
      "测试集 RMSE =  384.152902411\n",
      "训练集 RMSE =  320.018749485\n",
      "测试集 RMSE =  381.017570098\n",
      "训练集 RMSE =  326.435050207\n",
      "测试集 RMSE =  390.023056125\n",
      "训练集 RMSE =  270.838261295\n",
      "测试集 RMSE =  333.835095592\n"
     ]
    }
   ],
   "source": [
    "import numpy as np\n",
    "import pandas as pd\n",
    "from sklearn.tree import DecisionTreeClassifier\n",
    "from sklearn.metrics import accuracy_score\n",
    "from sklearn.model_selection import train_test_split\n",
    "from math import sqrt\n",
    "\n",
    "def mse_mae_rmse(target, prediction):\n",
    "    error = []\n",
    "    for i in range(len(target)):\n",
    "        error.append(target[i] - prediction[i])\n",
    "\n",
    "    squaredError = []\n",
    "    absError = []\n",
    "    for val in error:\n",
    "        squaredError.append(val * val)#target-prediction之差平方 \n",
    "        absError.append(abs(val))#误差绝对值\n",
    "\n",
    "    MSE = sum(squaredError) / len(squaredError)\n",
    "    RMSE = sqrt(sum(squaredError) / len(squaredError))\n",
    "    MAE =  sum(absError) / len(absError)\n",
    "    return MSE, MAE, RMSE\n",
    "\n",
    "all=pd.read_csv('under_sample_Standard_data.csv')\n",
    "data = all.iloc[0:,1:]\n",
    "x_prime = data.iloc[0:,0:len(data.columns)-1] #去掉y列，所以len-1\n",
    "y = data.iloc[0:,len(data.columns)-1:]\n",
    "x_prime_train, x_prime_test, y_train, y_test = train_test_split(x_prime, y, train_size=0.7, random_state=0)\n",
    "\n",
    "#print pd.DataFrame(y_train.dtypes).apply(pd.value_counts) \n",
    "# print x_prime_train.head(50)\n",
    "# print x_prime_test.head(50)\n",
    "# print y_train.values\n",
    "# print y_test\n",
    "\n",
    "#for p in range(len(data.columns)-1):\n",
    "for p in range(len(pair)):\n",
    "    # 准备数据\n",
    "#     x_train = x_prime_train.iloc[0:,range(p)+range(p+1,len(data.columns)-2)]#去掉y列之外再去掉一列特征，所以len-2\n",
    "#     x_test = x_prime_test.iloc[0:,range(p)+range(p+1,len(data.columns)-2)]\n",
    "    x_train = x_prime_train.iloc[0:,range(pair[p][0],pair[p][1])]\n",
    "    x_test = x_prime_test.iloc[0:,range(pair[p][0],pair[p][1])]\n",
    "\n",
    "    # 决策树学习\n",
    "    model = DecisionTreeClassifier(criterion='entropy', min_samples_leaf=3)\n",
    "    model.fit(x_train, y_train.astype('int'))\n",
    "\n",
    "    # 训练集上的预测结果\n",
    "    y_train_pred = model.predict(x_train)\n",
    "    acc_train = accuracy_score(y_train.astype('int'), y_train_pred)\n",
    "    y_test_pred = model.predict(x_test)\n",
    "    acc_test = accuracy_score(y_test.astype('int'), y_test_pred)\n",
    "    \n",
    "    MSE1, MAE1, RMSE1 = mse_mae_rmse(y_train['prediction_pay_price'].values, \n",
    "                                     y_train_pred)\n",
    "    print '训练集 RMSE = ', RMSE1\n",
    "    MSE2, MAE2, RMSE2 = mse_mae_rmse(y_test['prediction_pay_price'].values, \n",
    "                                     y_test_pred)\n",
    "    print '测试集 RMSE =  ', RMSE2\n",
    "    #if acc_test < 0.84:\n",
    "#     print '特征：', x_prime_train.iloc[0:,range(pair[p][0],pair[p][1])].columns\n",
    "#     print '\\t训练集准确率: %.4f%%' % (100*acc_train)\n",
    "#     print '\\t测试集准确率: %.4f%%\\n' % (100*acc_test)\n",
    "#     print y_test_pred"
   ]
  },
  {
   "cell_type": "code",
   "execution_count": 24,
   "metadata": {
    "scrolled": true
   },
   "outputs": [
    {
     "name": "stdout",
     "output_type": "stream",
     "text": [
      "训练集 RMSE =  249.729062264\n",
      "测试集 RMSE =    339.647304512\n",
      "训练集 RMSE =  244.466772871\n",
      "测试集 RMSE =    336.285844427\n",
      "训练集 RMSE =  250.824546007\n",
      "测试集 RMSE =    334.871245359\n",
      "训练集 RMSE =  259.477868383\n",
      "测试集 RMSE =    307.893749499\n",
      "训练集 RMSE =  256.677502895\n",
      "测试集 RMSE =    336.010799484\n",
      "训练集 RMSE =  252.688366717\n",
      "测试集 RMSE =    317.385210292\n",
      "训练集 RMSE =  254.703211478\n",
      "测试集 RMSE =    335.829019009\n",
      "训练集 RMSE =  247.632351522\n",
      "测试集 RMSE =    333.461381402\n",
      "训练集 RMSE =  262.361012584\n",
      "测试集 RMSE =    340.492859187\n",
      "训练集 RMSE =  250.886491328\n",
      "测试集 RMSE =    317.475146309\n",
      "训练集 RMSE =  246.34211996\n",
      "测试集 RMSE =    322.301213446\n",
      "训练集 RMSE =  246.101747274\n",
      "测试集 RMSE =    332.097501292\n",
      "训练集 RMSE =  240.982927707\n",
      "测试集 RMSE =    326.551623769\n",
      "训练集 RMSE =  254.284144672\n",
      "测试集 RMSE =    335.602812235\n",
      "训练集 RMSE =  262.291086362\n",
      "测试集 RMSE =    343.202716002\n"
     ]
    }
   ],
   "source": [
    "for p in range(len(pair)):\n",
    "    # 准备数据\n",
    "#     x_train = x_prime_train.iloc[0:,range(p)+range(p+1,len(data.columns)-2)]#去掉y列之外再去掉一列特征，所以len-2\n",
    "#     x_test = x_prime_test.iloc[0:,range(p)+range(p+1,len(data.columns)-2)]\n",
    "    x_train = x_prime_train.iloc[0:,range(0,pair[p][0])+range(pair[p][1],85)]#去掉y列之外再去掉一列特征，所以len-2\n",
    "    x_test = x_prime_test.iloc[0:,range(0,pair[p][0])+range(pair[p][1],85)]\n",
    "\n",
    "    # 决策树学习\n",
    "    model = DecisionTreeClassifier(criterion='entropy', min_samples_leaf=2)\n",
    "    model.fit(x_train, y_train.astype('int'))\n",
    "\n",
    "    # 训练集上的预测结果\n",
    "    y_train_pred = model.predict(x_train)\n",
    "    acc_train = accuracy_score(y_train.astype('int'), y_train_pred)\n",
    "    y_test_pred = model.predict(x_test)\n",
    "    acc_test = accuracy_score(y_test.astype('int'), y_test_pred)\n",
    "    #if acc_test < 0.84:\n",
    "#     print '不要特征：', x_prime_train.iloc[0:,range(pair[p][0],pair[p][1])].columns\n",
    "#     print '\\t训练集准确率: %.4f%%' % (100*acc_train)\n",
    "#     print '\\t测试集准确率: %.4f%%\\n' % (100*acc_test)\n",
    "#     print y_test_pred\n",
    "    MSE1, MAE1, RMSE1 = mse_mae_rmse(y_train['prediction_pay_price'].values, \n",
    "                                     y_train_pred)\n",
    "    print '训练集 RMSE = ', RMSE1\n",
    "    MSE2, MAE2, RMSE2 = mse_mae_rmse(y_test['prediction_pay_price'].values, \n",
    "                                     y_test_pred)\n",
    "    print '测试集 RMSE =   ', RMSE2"
   ]
  },
  {
   "cell_type": "code",
   "execution_count": 25,
   "metadata": {
    "scrolled": true
   },
   "outputs": [
    {
     "name": "stdout",
     "output_type": "stream",
     "text": [
      "训练集 RMSE =  266.373758367\n",
      "测试集 RMSE =    335.249481122\n"
     ]
    }
   ],
   "source": [
    "    x_train = x_prime_train#.iloc[0:,range(0,pair[p][0])+range(pair[p][1],107)]#去掉y列之外再去掉一列特征，所以len-2\n",
    "    x_test = x_prime_test#.iloc[0:,range(0,pair[p][0])+range(pair[p][1],107)]\n",
    "\n",
    "    # 决策树学习\n",
    "    model = DecisionTreeClassifier(criterion='entropy', min_samples_leaf=3)\n",
    "    model.fit(x_train, y_train.astype('int'))\n",
    "\n",
    "    # 训练集上的预测结果\n",
    "    y_train_pred = model.predict(x_train)\n",
    "    acc_train = accuracy_score(y_train.astype('int'), y_train_pred)\n",
    "    y_test_pred = model.predict(x_test)\n",
    "    acc_test = accuracy_score(y_test.astype('int'), y_test_pred)\n",
    "    #if acc_test < 0.84:\n",
    "#     print '不要特征：', x_prime_train.iloc[0:,range(pair[p][0],pair[p][1])].columns\n",
    "#     print '\\t训练集准确率: %.4f%%' % (100*acc_train)\n",
    "#     print '\\t测试集准确率: %.4f%%\\n' % (100*acc_test)\n",
    "#     print y_test_pred\n",
    "    MSE1, MAE1, RMSE1 = mse_mae_rmse(y_train['prediction_pay_price'].values, \n",
    "                                     y_train_pred)\n",
    "    print '训练集 RMSE = ', RMSE1\n",
    "    MSE2, MAE2, RMSE2 = mse_mae_rmse(y_test['prediction_pay_price'].values, \n",
    "                                     y_test_pred)\n",
    "    print '测试集 RMSE =   ', RMSE2"
   ]
  },
  {
   "cell_type": "code",
   "execution_count": 26,
   "metadata": {},
   "outputs": [
    {
     "name": "stdout",
     "output_type": "stream",
     "text": [
      "[[-0.79576042 -0.17682214 -0.16079714 ... -0.45977738 -0.09281969\n",
      "  -0.33096724]\n",
      " [-1.17006939 -0.03401706 -0.16079714 ... -0.33765098 -0.08167265\n",
      "   0.04617915]\n",
      " [ 1.73082508  1.33304537  2.19386698 ...  2.24445012  0.09803126\n",
      "   1.55476473]\n",
      " ...\n",
      " [-1.07649215 -0.1769601  -0.16079714 ... -0.46612161 -0.09281969\n",
      "  -0.33096724]\n",
      " [ 1.16936164 -0.17653309 -0.16079714 ... -0.46612161 -0.09281969\n",
      "  -0.33096724]\n",
      " [-1.07649215 -0.17404646 -0.16079714 ... -0.44867498 -0.09281969\n",
      "  -0.33096724]]\n"
     ]
    }
   ],
   "source": [
    "print x_train.values"
   ]
  }
 ],
 "metadata": {
  "kernelspec": {
   "display_name": "Python 2",
   "language": "python",
   "name": "python2"
  },
  "language_info": {
   "codemirror_mode": {
    "name": "ipython",
    "version": 2
   },
   "file_extension": ".py",
   "mimetype": "text/x-python",
   "name": "python",
   "nbconvert_exporter": "python",
   "pygments_lexer": "ipython2",
   "version": "2.7.15"
  }
 },
 "nbformat": 4,
 "nbformat_minor": 2
}
