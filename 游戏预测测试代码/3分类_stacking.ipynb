{
 "cells": [
  {
   "cell_type": "code",
   "execution_count": 1,
   "metadata": {},
   "outputs": [],
   "source": [
    "import numpy as np\n",
    "import pandas as pd\n",
    "import matplotlib.pyplot as plt\n",
    "from sklearn.model_selection import train_test_split\n",
    "from sklearn.linear_model import LogisticRegression\n",
    "import lightgbm as lgb\n",
    "import xgboost as xgb\n",
    "from sklearn.ensemble import RandomForestClassifier, GradientBoostingClassifier,AdaBoostClassifier,BaggingClassifier\n",
    "from sklearn.metrics import accuracy_score\n",
    "%matplotlib inline"
   ]
  },
  {
   "cell_type": "code",
   "execution_count": 2,
   "metadata": {},
   "outputs": [
    {
     "data": {
      "text/plain": [
       "((41439, 110),\n",
       " Index([u'user_id', u'register_time', u'wood_add_value', u'wood_reduce_value',\n",
       "        u'stone_add_value', u'stone_reduce_value', u'ivory_add_value',\n",
       "        u'ivory_reduce_value', u'meat_add_value', u'meat_reduce_value',\n",
       "        ...\n",
       "        u'pvp_lanch_count', u'pvp_win_count', u'pve_battle_count',\n",
       "        u'pve_lanch_count', u'pve_win_count', u'avg_online_minutes',\n",
       "        u'pay_price', u'pay_count', u'lable', u'leibie'],\n",
       "       dtype='object', length=110),\n",
       " (41439, 111),\n",
       " Index([u'user_id', u'register_time', u'wood_add_value', u'wood_reduce_value',\n",
       "        u'stone_add_value', u'stone_reduce_value', u'ivory_add_value',\n",
       "        u'ivory_reduce_value', u'meat_add_value', u'meat_reduce_value',\n",
       "        ...\n",
       "        u'pvp_win_count', u'pve_battle_count', u'pve_lanch_count',\n",
       "        u'pve_win_count', u'avg_online_minutes', u'pay_price', u'pay_count',\n",
       "        u'prediction_pay_price', u'lable', u'leibie'],\n",
       "       dtype='object', length=111))"
      ]
     },
     "execution_count": 2,
     "metadata": {},
     "output_type": "execute_result"
    }
   ],
   "source": [
    "df = pd.read_csv(\"pay_pricedayu0.csv\")\n",
    "df[\"leibie\"] = 0\n",
    "df[\"leibie\"] = df.apply(lambda x: 1 if ((-x[\"pay_price\"] + x[\"prediction_pay_price\"])>=15 and  x[\"pay_price\"] != 0) else x[\"leibie\"] ,axis=1)\n",
    "df[\"leibie\"] = df.apply(lambda x: 2 if x[\"pay_price\"] == x[\"prediction_pay_price\"] else x[\"leibie\"],axis=1)\n",
    "df[\"leibie\"] = df.apply(lambda x: 3 if ((-x[\"pay_price\"]+x[\"prediction_pay_price\"])<15 and  x[\"pay_price\"] != 0 and (-x[\"pay_price\"]+x[\"prediction_pay_price\"])>0) else x[\"leibie\"],axis=1)\n",
    "df_ = df.drop(['prediction_pay_price'],axis=1)\n",
    "dt1=pd.to_datetime(df_[\"register_time\"])\n",
    "df_[\"register_time\"] = dt1.dt.dayofyear\n",
    "df_.shape,df_.columns,df.shape,df.columns"
   ]
  },
  {
   "cell_type": "code",
   "execution_count": 3,
   "metadata": {},
   "outputs": [],
   "source": [
    "\n",
    "# def feature(df):\n",
    "#     df[\"wood\"] = df[\"wood_reduce_value\"]/(df[\"wood_add_value\"]+0.1)\n",
    "#     df[\"meat\"] = df[\"meat_reduce_value\"]/(df[\"meat_add_value\"]+0.1)\n",
    "#     df[\"ivory\"] = df[\"ivory_reduce_value\"]/(df[\"ivory_add_value\"]+0.1)\n",
    "#     df[\"stone\"] = df[\"stone_reduce_value\"]/(df[\"stone_add_value\"]+0.1)\n",
    "#     df[\"magic\"] = df[\"magic_reduce_value\"]/(df[\"magic_add_value\"]+0.1)    \n",
    "    \n",
    "#     df[\"general_acceleration\"] = df[\"general_acceleration_reduce_value\"]/(df[\"general_acceleration_add_value\"]+0.1)\n",
    "#     df[\"building_acceleration\"] = df[\"building_acceleration_reduce_value\"]/(df[\"building_acceleration_add_value\"]+0.1)\n",
    "    \n",
    "#     df[\"reaserch_acceleration\"] = df[\"reaserch_acceleration_reduce_value\"]/(df[\"reaserch_acceleration_add_value\"]+0.1)\n",
    "#     df[\"training_acceleration\"] = df[\"training_acceleration_reduce_value\"]/(df[\"training_acceleration_add_value\"]+0.1)\n",
    "    \n",
    "    \n",
    "#     df[\"sr_outpost\"] =df[\"sr_outpost_tier_3_level\"]+df[\"sr_outpost_tier_2_level\"]+df[\"sr_outpost_tier_4_level\"]\n",
    "#     df[\"pvp_battle\"] = df[\"pvp_battle_count\"]*df[\"pay_price\"]/df[\"avg_online_minutes\"]/df[\"pay_count\"]\n",
    "\n",
    "    \n",
    "#     df = df.drop([\n",
    "#                     'stone_reduce_value',    \n",
    "#                     ], axis=1)\n",
    "    \n",
    "#     return df\n",
    "# df = df.iloc[:,1:]\n",
    "# df = feature(df)\n",
    "\n"
   ]
  },
  {
   "cell_type": "code",
   "execution_count": 4,
   "metadata": {},
   "outputs": [],
   "source": [
    "cols = [x for x in df.columns if x not in [\"user_id\", 'register_time',\"leibie\",\"prediction_pay_price\",\"lable\"]]\n",
    "train_x = df[cols]\n",
    "train_y = df.iloc[:,110:]\n",
    "X_train, X_test, y_train, y_test = train_test_split(train_x, train_y, test_size=0.4, random_state=2008)"
   ]
  },
  {
   "cell_type": "code",
   "execution_count": 5,
   "metadata": {},
   "outputs": [],
   "source": [
    "# X_test = pd.read_csv(\"test_pay_pricedayu0.csv\")\n",
    "# x_test = X_test[cols]"
   ]
  },
  {
   "cell_type": "code",
   "execution_count": 6,
   "metadata": {},
   "outputs": [],
   "source": [
    "from sklearn.model_selection import StratifiedKFold\n",
    "\n",
    "def stacking(x_train, y_train, x_test, cv):\n",
    "\n",
    "#     le = LabelEncoder()\n",
    "#     y_train = le.fit_transform(y_train)\n",
    "\n",
    "    clfs = [\n",
    "        xgb.XGBClassifier(max_depth = 5,booster= 'gbtree',objective='multi:softmax',gamma=0.1,n_estimators=300),\n",
    "        lgb.LGBMClassifier(max_depth = 5,objective='multi:softmax',n_estimators=300),\n",
    "        RandomForestClassifier(max_depth = 6,n_estimators=20),\n",
    "        GradientBoostingClassifier(max_depth = 5,n_estimators= 200),\n",
    "    ]\n",
    "\n",
    "    skf = StratifiedKFold(n_splits=cv)\n",
    "    skf_dataset = list(skf.split(x_train, y_train))\n",
    "\n",
    "    # y_count: the kinds of labels\n",
    "    y_count = len(set(y_train.leibie))\n",
    "#     print y_count\n",
    "    \n",
    "    # blend_train is the probabilities that every clf predicts every label (i.e. y) for every sample\n",
    "    # it is used to train the clfs in the second layer\n",
    "    blend_train = np.zeros((x_train.shape[0], len(clfs) * y_count))\n",
    "    blend_train = pd.DataFrame(blend_train)\n",
    "\n",
    "    # blend_test is used as the input of the clfs in the second layer to predict the labels of x_test\n",
    "    blend_test = np.zeros((x_test.shape[0], len(clfs) * y_count))\n",
    "    blend_test = pd.DataFrame(blend_test)\n",
    "\n",
    "    for j, clf in enumerate(clfs):\n",
    "        print j, clf\n",
    "\n",
    "        # blend_test_j: the probabilities that j-th clf predicts every label for x_test\n",
    "        blend_test_j = np.zeros((x_test.shape[0], len(skf_dataset) * y_count))\n",
    "        blend_test_j = pd.DataFrame(blend_test_j)\n",
    "        \n",
    "        for k, (train_idx, test_idx) in enumerate(skf_dataset):\n",
    "            x_train_k = x_train.iloc[train_idx,:]\n",
    "            y_train_k = y_train.iloc[train_idx,:]\n",
    "            x_train_holdout = x_train.iloc[test_idx,:]\n",
    "\n",
    "            clf.fit(x_train_k, y_train_k)\n",
    "            x_train_holdout_ = clf.predict_proba(x_train_holdout)\n",
    "            \n",
    "            #blend_train[test_idx, j*y_count: (j+1)*y_count] = clf.predict_proba(x_train_holdout)\n",
    "            blend_train.iloc[test_idx,j*y_count:(j+1)*y_count] = clf.predict_proba(x_train_holdout)\n",
    "            blend_test_j.iloc[:, k*y_count: (k+1)*y_count] = clf.predict_proba(x_test)\n",
    "\n",
    "        # because there are len(skf_dataset) blend_test_j for x_test, it needs to calculated the mean value\n",
    "        blend_test_j_mean = np.zeros((x_test.shape[0], y_count))\n",
    "        blend_test_j_mean = pd.DataFrame(blend_test_j_mean)\n",
    "\n",
    "        # indices: supposed y_count = 3, indices would be [0, 3, 6]\n",
    "        # it is used to find the corresponding probabilities of the same label, and calculate the mean\n",
    "        indices = np.arange(len(skf_dataset)) * y_count\n",
    "        for c in xrange(y_count):\n",
    "            blend_test_j_mean.iloc[:,c] = pd.DataFrame(blend_test_j.iloc[:, indices].mean(1))\n",
    "            indices += 1\n",
    "        blend_test[range(j*y_count,(j+1)*y_count)] = blend_test_j_mean\n",
    "#         print blend_test_j_mean.head()\n",
    "#         print blend_test.head()\n",
    "\n",
    "    clf = LogisticRegression()\n",
    "    clf.fit(blend_train, y_train)\n",
    "    y_pred = clf.predict(blend_test)\n",
    "#     y_pred = le.inverse_transform(y_pred)\n",
    "\n",
    "    return y_pred#blend_train,blend_test"
   ]
  },
  {
   "cell_type": "code",
   "execution_count": 7,
   "metadata": {
    "scrolled": true
   },
   "outputs": [
    {
     "name": "stdout",
     "output_type": "stream",
     "text": [
      "0 XGBClassifier(base_score=0.5, booster='gbtree', colsample_bylevel=1,\n",
      "       colsample_bytree=1, gamma=0.1, learning_rate=0.1, max_delta_step=0,\n",
      "       max_depth=5, min_child_weight=1, missing=None, n_estimators=300,\n",
      "       n_jobs=1, nthread=None, objective='multi:softmax', random_state=0,\n",
      "       reg_alpha=0, reg_lambda=1, scale_pos_weight=1, seed=None,\n",
      "       silent=True, subsample=1)\n"
     ]
    },
    {
     "name": "stderr",
     "output_type": "stream",
     "text": [
      "F:\\zhangzhenhua\\anaconda2.7\\lib\\site-packages\\sklearn\\preprocessing\\label.py:95: DataConversionWarning: A column-vector y was passed when a 1d array was expected. Please change the shape of y to (n_samples, ), for example using ravel().\n",
      "  y = column_or_1d(y, warn=True)\n",
      "F:\\zhangzhenhua\\anaconda2.7\\lib\\site-packages\\sklearn\\preprocessing\\label.py:128: DataConversionWarning: A column-vector y was passed when a 1d array was expected. Please change the shape of y to (n_samples, ), for example using ravel().\n",
      "  y = column_or_1d(y, warn=True)\n"
     ]
    },
    {
     "name": "stdout",
     "output_type": "stream",
     "text": [
      "1 LGBMClassifier(boosting_type='gbdt', class_weight=None, colsample_bytree=1.0,\n",
      "        learning_rate=0.1, max_depth=5, min_child_samples=20,\n",
      "        min_child_weight=0.001, min_split_gain=0.0, n_estimators=300,\n",
      "        n_jobs=-1, num_leaves=31, objective='multi:softmax',\n",
      "        random_state=None, reg_alpha=0.0, reg_lambda=0.0, silent=True,\n",
      "        subsample=1.0, subsample_for_bin=200000, subsample_freq=0)\n",
      "2 RandomForestClassifier(bootstrap=True, class_weight=None, criterion='gini',\n",
      "            max_depth=6, max_features='auto', max_leaf_nodes=None,\n",
      "            min_impurity_decrease=0.0, min_impurity_split=None,\n",
      "            min_samples_leaf=1, min_samples_split=2,\n",
      "            min_weight_fraction_leaf=0.0, n_estimators=20, n_jobs=1,\n",
      "            oob_score=False, random_state=None, verbose=0,\n",
      "            warm_start=False)\n"
     ]
    },
    {
     "name": "stderr",
     "output_type": "stream",
     "text": [
      "F:\\zhangzhenhua\\anaconda2.7\\lib\\site-packages\\ipykernel_launcher.py:43: DataConversionWarning: A column-vector y was passed when a 1d array was expected. Please change the shape of y to (n_samples,), for example using ravel().\n"
     ]
    },
    {
     "name": "stdout",
     "output_type": "stream",
     "text": [
      "3 GradientBoostingClassifier(criterion='friedman_mse', init=None,\n",
      "              learning_rate=0.1, loss='deviance', max_depth=5,\n",
      "              max_features=None, max_leaf_nodes=None,\n",
      "              min_impurity_decrease=0.0, min_impurity_split=None,\n",
      "              min_samples_leaf=1, min_samples_split=2,\n",
      "              min_weight_fraction_leaf=0.0, n_estimators=200,\n",
      "              presort='auto', random_state=None, subsample=1.0, verbose=0,\n",
      "              warm_start=False)\n"
     ]
    },
    {
     "name": "stderr",
     "output_type": "stream",
     "text": [
      "F:\\zhangzhenhua\\anaconda2.7\\lib\\site-packages\\sklearn\\utils\\validation.py:578: DataConversionWarning: A column-vector y was passed when a 1d array was expected. Please change the shape of y to (n_samples, ), for example using ravel().\n",
      "  y = column_or_1d(y, warn=True)\n"
     ]
    }
   ],
   "source": [
    "y_test_pred = stacking(X_train,y_train,X_test,4)\n",
    "# print u'stacking：', accuracy_score(y_test, y_test_pred)\n",
    "# df.iloc[:,110:]\n",
    "\n",
    "\n",
    "# stacking_train['user_id'] = df['user_id']\n",
    "# stacking_test['user_id'] = X_test['user_id']\n",
    "# stacking_train['lable'] = df['lable']\n",
    "# # stacking_train.to_csv('stacking_train12.csv',index=None)\n",
    "# # stacking_test.to_csv('stacking_test12.csv',index=None)\n",
    "\n",
    "# stacking_train12 = stacking_train\n",
    "# stacking_test12 = stacking_test\n",
    "# stacking_train12_ = stacking_train12.iloc[:,:8]\n",
    "# stacking_test12_ = stacking_test12.iloc[:,:8]\n",
    "# # stacking_train12_.columns,stacking_test12_.columns\n",
    "# lr = LogisticRegression()\n",
    "# lr.fit(stacking_train12_, stacking_train12.lable)\n",
    "# y_pred = lr.predict(stacking_test12_)\n",
    "# y_pred = pd.DataFrame(y_pred)\n",
    "# stacking_test12['lable'] = y_pred\n",
    "# stacking_test12__ =stacking_test12.iloc[:,[8,9]]\n",
    "\n",
    "# stacking_test12__['lable'] = stacking_test12__.apply(lambda x: 2 if(x['lable'] == 0) else 1,axis=1)   \n",
    "# stacking_test12__.to_csv('stacking_test12_lr.csv',index=None)"
   ]
  },
  {
   "cell_type": "code",
   "execution_count": 10,
   "metadata": {
    "scrolled": true
   },
   "outputs": [
    {
     "name": "stdout",
     "output_type": "stream",
     "text": [
      "stacking： 0.7891529922779923\n"
     ]
    }
   ],
   "source": [
    "print u'stacking：', accuracy_score(y_test, y_test_pred)"
   ]
  },
  {
   "cell_type": "code",
   "execution_count": 15,
   "metadata": {},
   "outputs": [
    {
     "name": "stdout",
     "output_type": "stream",
     "text": [
      "(2684, 2) (1564, 2)\n",
      "(12098, 2) (11509, 2)\n",
      "(1794, 2) (8, 2)\n"
     ]
    },
    {
     "name": "stderr",
     "output_type": "stream",
     "text": [
      "F:\\zhangzhenhua\\anaconda2.7\\lib\\site-packages\\ipykernel_launcher.py:1: SettingWithCopyWarning: \n",
      "A value is trying to be set on a copy of a slice from a DataFrame.\n",
      "Try using .loc[row_indexer,col_indexer] = value instead\n",
      "\n",
      "See the caveats in the documentation: http://pandas.pydata.org/pandas-docs/stable/indexing.html#indexing-view-versus-copy\n",
      "  \"\"\"Entry point for launching an IPython kernel.\n"
     ]
    }
   ],
   "source": [
    "y_test['pre'] = y_test_pred\n",
    "lable1 = y_test[(y_test['leibie']==1)]\n",
    "lable11 = y_test[(y_test['pre'] ==1) & (y_test['leibie']==1)]\n",
    "print lable1.shape,lable11.shape\n",
    "lable2 = y_test[(y_test['leibie']==2)]\n",
    "lable22 = y_test[(y_test['pre'] ==2) & (y_test['leibie']==2)]\n",
    "print lable2.shape,lable22.shape\n",
    "lable3 = y_test[(y_test['leibie']==3)]\n",
    "lable33 = y_test[(y_test['pre'] ==3) & (y_test['leibie']==3)]\n",
    "print lable3.shape,lable33.shape"
   ]
  },
  {
   "cell_type": "code",
   "execution_count": 20,
   "metadata": {},
   "outputs": [
    {
     "name": "stdout",
     "output_type": "stream",
     "text": [
      "0 XGBClassifier(base_score=0.5, booster='gbtree', colsample_bylevel=1,\n",
      "       colsample_bytree=1, gamma=0.1, learning_rate=0.1, max_delta_step=0,\n",
      "       max_depth=5, min_child_weight=1, missing=None, n_estimators=300,\n",
      "       n_jobs=1, nthread=None, objective='multi:softmax', random_state=0,\n",
      "       reg_alpha=0, reg_lambda=1, scale_pos_weight=1, seed=None,\n",
      "       silent=True, subsample=1)\n",
      "1 LGBMClassifier(boosting_type='gbdt', class_weight=None, colsample_bytree=1.0,\n",
      "        learning_rate=0.1, max_depth=5, min_child_samples=20,\n",
      "        min_child_weight=0.001, min_split_gain=0.0, n_estimators=300,\n",
      "        n_jobs=-1, num_leaves=31, objective='multi:softmax',\n",
      "        random_state=None, reg_alpha=0.0, reg_lambda=0.0, silent=True,\n",
      "        subsample=1.0, subsample_for_bin=200000, subsample_freq=0)\n",
      "2 RandomForestClassifier(bootstrap=True, class_weight=None, criterion='gini',\n",
      "            max_depth=6, max_features='auto', max_leaf_nodes=None,\n",
      "            min_impurity_decrease=0.0, min_impurity_split=None,\n",
      "            min_samples_leaf=1, min_samples_split=2,\n",
      "            min_weight_fraction_leaf=0.0, n_estimators=20, n_jobs=1,\n",
      "            oob_score=False, random_state=None, verbose=0,\n",
      "            warm_start=False)\n"
     ]
    },
    {
     "name": "stderr",
     "output_type": "stream",
     "text": [
      "F:\\zhangzhenhua\\anaconda2.7\\lib\\site-packages\\ipykernel_launcher.py:43: DataConversionWarning: A column-vector y was passed when a 1d array was expected. Please change the shape of y to (n_samples,), for example using ravel().\n"
     ]
    },
    {
     "name": "stdout",
     "output_type": "stream",
     "text": [
      "3 GradientBoostingClassifier(criterion='friedman_mse', init=None,\n",
      "              learning_rate=0.1, loss='deviance', max_depth=5,\n",
      "              max_features=None, max_leaf_nodes=None,\n",
      "              min_impurity_decrease=0.0, min_impurity_split=None,\n",
      "              min_samples_leaf=1, min_samples_split=2,\n",
      "              min_weight_fraction_leaf=0.0, n_estimators=200,\n",
      "              presort='auto', random_state=None, subsample=1.0, verbose=0,\n",
      "              warm_start=False)\n"
     ]
    }
   ],
   "source": [
    "df_test_ = pd.read_csv(\"test_pay_pricedayu0.csv\")\n",
    "df_test = df_test_[cols]\n",
    "y_test_pred = stacking(train_x,train_y,df_test,4)"
   ]
  },
  {
   "cell_type": "code",
   "execution_count": 22,
   "metadata": {},
   "outputs": [
    {
     "name": "stdout",
     "output_type": "stream",
     "text": [
      "(3050, 1)\n",
      "(16495, 1)\n",
      "(4, 1)\n"
     ]
    }
   ],
   "source": [
    "y_test_pred = pd.DataFrame(y_test_pred)\n",
    "y_test_pred.columns = ['pre_lable']\n",
    "lable1 = y_test_pred[(y_test_pred['pre_lable']==1)]\n",
    "print lable1.shape\n",
    "lable2 = y_test_pred[(y_test_pred['pre_lable']==2)]\n",
    "print lable2.shape\n",
    "lable3 = y_test_pred[(y_test_pred['pre_lable']==3)]\n",
    "print lable3.shape"
   ]
  }
 ],
 "metadata": {
  "kernelspec": {
   "display_name": "Python 2",
   "language": "python",
   "name": "python2"
  },
  "language_info": {
   "codemirror_mode": {
    "name": "ipython",
    "version": 2
   },
   "file_extension": ".py",
   "mimetype": "text/x-python",
   "name": "python",
   "nbconvert_exporter": "python",
   "pygments_lexer": "ipython2",
   "version": "2.7.15"
  }
 },
 "nbformat": 4,
 "nbformat_minor": 2
}
