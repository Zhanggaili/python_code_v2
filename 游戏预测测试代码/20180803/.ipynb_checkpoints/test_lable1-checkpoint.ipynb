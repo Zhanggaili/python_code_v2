{
 "cells": [
  {
   "cell_type": "code",
   "execution_count": 1,
   "metadata": {},
   "outputs": [
    {
     "data": {
      "text/plain": [
       "(828934, 110)"
      ]
     },
     "execution_count": 1,
     "metadata": {},
     "output_type": "execute_result"
    }
   ],
   "source": [
    "import pandas as pd\n",
    "\n",
    "tap_fun_test_lable = pd.read_csv(\"tap_fun_test_lable.csv\")\n",
    "#data_test = pd.read_csv(\"tap_fun_test.csv\")\n",
    "tap_fun_test_lable.shape"
   ]
  },
  {
   "cell_type": "code",
   "execution_count": 2,
   "metadata": {},
   "outputs": [
    {
     "name": "stdout",
     "output_type": "stream",
     "text": [
      "(3633, 110)\n",
      "(15916, 110)\n",
      "(15, 110)\n",
      "(809370, 110)\n"
     ]
    }
   ],
   "source": [
    "lable1 = tap_fun_test_lable[tap_fun_test_lable['lable']==1]\n",
    "print lable1.shape\n",
    "lable2 = tap_fun_test_lable[tap_fun_test_lable['lable']==2]\n",
    "print lable2.shape\n",
    "lable3 = tap_fun_test_lable[tap_fun_test_lable['lable']==3]\n",
    "print lable3.shape\n",
    "lable4 = tap_fun_test_lable[tap_fun_test_lable['lable']==4]\n",
    "print lable4.shape"
   ]
  },
  {
   "cell_type": "code",
   "execution_count": null,
   "metadata": {},
   "outputs": [],
   "source": []
  }
 ],
 "metadata": {
  "kernelspec": {
   "display_name": "Python 2",
   "language": "python",
   "name": "python2"
  },
  "language_info": {
   "codemirror_mode": {
    "name": "ipython",
    "version": 2
   },
   "file_extension": ".py",
   "mimetype": "text/x-python",
   "name": "python",
   "nbconvert_exporter": "python",
   "pygments_lexer": "ipython2",
   "version": "2.7.15"
  }
 },
 "nbformat": 4,
 "nbformat_minor": 2
}
