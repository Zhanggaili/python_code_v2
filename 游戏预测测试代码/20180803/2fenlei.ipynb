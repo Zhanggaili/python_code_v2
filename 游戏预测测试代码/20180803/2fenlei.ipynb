{
 "cells": [
  {
   "cell_type": "code",
   "execution_count": 9,
   "metadata": {},
   "outputs": [
    {
     "data": {
      "text/plain": [
       "(4549, 110)"
      ]
     },
     "execution_count": 9,
     "metadata": {},
     "output_type": "execute_result"
    }
   ],
   "source": [
    "import pandas as pd\n",
    "import matplotlib.pyplot as plt\n",
    "import seaborn as sns\n",
    "import warnings\n",
    "warnings.filterwarnings('ignore')\n",
    "%matplotlib inline\n",
    "plt.style.use('ggplot')\n",
    "\n",
    "lable3 = pd.read_csv(\"lable3.csv\")\n",
    "#data_test = pd.read_csv(\"tap_fun_test.csv\")\n",
    "\n",
    "lable3.shape"
   ]
  },
  {
   "cell_type": "code",
   "execution_count": 29,
   "metadata": {
    "scrolled": true
   },
   "outputs": [
    {
     "name": "stdout",
     "output_type": "stream",
     "text": [
      "       wood_add_value  wood_reduce_value  stone_add_value  stone_reduce_value  \\\n",
      "count    4.549000e+03       4.549000e+03     4.549000e+03        4.549000e+03   \n",
      "mean     3.809155e+06       3.480454e+06     1.327520e+06        1.073830e+06   \n",
      "std      3.494822e+06       3.208604e+06     1.800170e+06        1.528234e+06   \n",
      "min      0.000000e+00       0.000000e+00     0.000000e+00        0.000000e+00   \n",
      "25%      8.875470e+05       6.707350e+05     2.000000e+04        0.000000e+00   \n",
      "50%      3.051118e+06       2.781126e+06     6.100330e+05        3.304000e+05   \n",
      "75%      5.872274e+06       5.483640e+06     2.087700e+06        1.753392e+06   \n",
      "max      4.204610e+07       2.770304e+07     3.783471e+07        2.005761e+07   \n",
      "\n",
      "       ivory_add_value  ivory_reduce_value  meat_add_value  meat_reduce_value  \\\n",
      "count     4.549000e+03        4.549000e+03    4.549000e+03       4.549000e+03   \n",
      "mean      4.636513e+05        5.549035e+04    4.967758e+06       3.473389e+06   \n",
      "std       6.860851e+05        2.475212e+05    4.543732e+06       3.389530e+06   \n",
      "min       0.000000e+00        0.000000e+00    0.000000e+00       0.000000e+00   \n",
      "25%       6.000000e+03        0.000000e+00    1.163252e+06       5.764440e+05   \n",
      "50%       2.100000e+05        0.000000e+00    3.980738e+06       2.599559e+06   \n",
      "75%       6.930000e+05        0.000000e+00    7.693260e+06       5.440608e+06   \n",
      "max       1.518300e+07        5.448845e+06    5.387045e+07       3.167502e+07   \n",
      "\n",
      "       magic_add_value  magic_reduce_value     ...       pvp_battle_count  \\\n",
      "count     4.549000e+03        4.549000e+03     ...            4549.000000   \n",
      "mean      7.148742e+05        4.134208e+05     ...              20.159156   \n",
      "std       2.297139e+06        6.772655e+05     ...              43.811468   \n",
      "min       0.000000e+00        0.000000e+00     ...               0.000000   \n",
      "25%       6.017300e+04        7.500000e+03     ...               1.000000   \n",
      "50%       3.739000e+05        2.432190e+05     ...               7.000000   \n",
      "75%       1.097775e+06        6.820280e+05     ...              20.000000   \n",
      "max       1.105829e+08        2.967741e+07     ...             636.000000   \n",
      "\n",
      "       pvp_lanch_count  pvp_win_count  pve_battle_count  pve_lanch_count  \\\n",
      "count      4549.000000    4549.000000       4549.000000      4549.000000   \n",
      "mean         13.725874      14.255880         38.730710        38.533084   \n",
      "std          38.530446      38.988864         42.367251        42.328453   \n",
      "min           0.000000       0.000000          0.000000         0.000000   \n",
      "25%           0.000000       0.000000          5.000000         5.000000   \n",
      "50%           2.000000       2.000000         23.000000        23.000000   \n",
      "75%          10.000000      11.000000         59.000000        59.000000   \n",
      "max         635.000000     632.000000        255.000000       255.000000   \n",
      "\n",
      "       pve_win_count  avg_online_minutes  pay_price  pay_count        lable  \n",
      "count    4549.000000         4549.000000     4549.0     4549.0  4549.000000  \n",
      "mean       35.586063          115.475929        0.0        0.0     1.702572  \n",
      "std        40.073354          128.285793        0.0        0.0     0.457177  \n",
      "min         0.000000            0.000000        0.0        0.0     1.000000  \n",
      "25%         4.000000           22.833333        0.0        0.0     1.000000  \n",
      "50%        20.000000           77.500000        0.0        0.0     2.000000  \n",
      "75%        54.000000          159.166667        0.0        0.0     2.000000  \n",
      "max       248.000000         1098.833333        0.0        0.0     2.000000  \n",
      "\n",
      "[8 rows x 107 columns]\n"
     ]
    }
   ],
   "source": [
    "# print lable3['prediction_pay_price'].value_counts()\n",
    "print lable3.describe()"
   ]
  },
  {
   "cell_type": "code",
   "execution_count": 10,
   "metadata": {},
   "outputs": [
    {
     "name": "stdout",
     "output_type": "stream",
     "text": [
      "lable1\n",
      "lable2\n"
     ]
    }
   ],
   "source": [
    "lable3['lable'] = 0\n",
    "lable3['lable'] = lable3.apply(lambda x: 1 if(x['prediction_pay_price'] == 0.99 ) else x['lable'],axis=1)\n",
    "print 'lable1'\n",
    "lable3['lable'] = lable3.apply(lambda x: 2 if(x['prediction_pay_price'] > 0.99) else x['lable'],axis=1)\n",
    "print 'lable2'"
   ]
  },
  {
   "cell_type": "code",
   "execution_count": 11,
   "metadata": {
    "scrolled": true
   },
   "outputs": [
    {
     "name": "stdout",
     "output_type": "stream",
     "text": [
      "(1353, 110)\n",
      "(3196, 110)\n"
     ]
    }
   ],
   "source": [
    "lable1 = lable3[lable3['lable']==1]\n",
    "print lable1.shape\n",
    "lable2 = lable3[lable3['lable']==2]\n",
    "print lable2.shape"
   ]
  },
  {
   "cell_type": "code",
   "execution_count": 8,
   "metadata": {},
   "outputs": [],
   "source": [
    "lable1.to_csv('lable1.csv',index=None)\n",
    "lable2.to_csv('lable2.csv',index=None)\n",
    "lable3.to_csv('lable3.csv',index=None)\n",
    "lable4.to_csv('lable4.csv',index=None)"
   ]
  },
  {
   "cell_type": "code",
   "execution_count": 12,
   "metadata": {},
   "outputs": [],
   "source": [
    "import lightgbm as lgb\n",
    "import numpy as np\n",
    "import pandas as pd\n",
    "from sklearn.model_selection import train_test_split   # cross_validation\n",
    "from sklearn.linear_model import RidgeClassifierCV\n",
    "from sklearn.ensemble import RandomForestClassifier, GradientBoostingClassifier\n",
    "from sklearn.preprocessing import MinMaxScaler, StandardScaler\n",
    "from sklearn.metrics import accuracy_score\n"
   ]
  },
  {
   "cell_type": "code",
   "execution_count": 13,
   "metadata": {},
   "outputs": [
    {
     "data": {
      "text/plain": [
       "(4549, 105)"
      ]
     },
     "execution_count": 13,
     "metadata": {},
     "output_type": "execute_result"
    }
   ],
   "source": [
    "lable3.drop(['user_id','prediction_pay_price','register_time','pay_price','pay_count'],axis=1, inplace=True)\n",
    "lable3.shape"
   ]
  },
  {
   "cell_type": "code",
   "execution_count": null,
   "metadata": {},
   "outputs": [],
   "source": []
  },
  {
   "cell_type": "code",
   "execution_count": 6,
   "metadata": {},
   "outputs": [
    {
     "data": {
      "text/plain": [
       "((4549, 104), Index([u'lable'], dtype='object'))"
      ]
     },
     "execution_count": 6,
     "metadata": {},
     "output_type": "execute_result"
    }
   ],
   "source": [
    "x, y = lable3.iloc[:, 0:len(lable3.columns)-1], lable3.iloc[:,len(lable3.columns)-1:]\n",
    "x.shape,y.columns"
   ]
  },
  {
   "cell_type": "code",
   "execution_count": 7,
   "metadata": {},
   "outputs": [],
   "source": [
    "# x = MinMaxScaler().fit_transform(x)\n",
    "x = StandardScaler().fit_transform(x)\n",
    "x_train, x_test, y_train, y_test = train_test_split(x, y, random_state=1, test_size=0.7)"
   ]
  },
  {
   "cell_type": "code",
   "execution_count": 15,
   "metadata": {
    "scrolled": true
   },
   "outputs": [
    {
     "name": "stdout",
     "output_type": "stream",
     "text": [
      "参数alpha=1000.00\n",
      "Logistic回归训练集准确率： 0.718475073313783\n",
      "Logistic回归测试集准确率： 0.6938775510204082\n",
      "OOB Score=0.71701\n",
      "随机森林训练集准确率： 0.7595307917888563\n",
      "随机森林测试集准确率： 0.6960753532182103\n"
     ]
    }
   ],
   "source": [
    "lr = RidgeClassifierCV(alphas=np.logspace(-3, 3, 10), cv=3)\n",
    "lr.fit(x_train, y_train)\n",
    "print u'参数alpha=%.2f' % lr.alpha_\n",
    "y_train_pred = lr.predict(x_train)\n",
    "y_test_pred = lr.predict(x_test)\n",
    "print u'Logistic回归训练集准确率：', accuracy_score(y_train, y_train_pred)\n",
    "print u'Logistic回归测试集准确率：', accuracy_score(y_test, y_test_pred)\n",
    "\n",
    "rf = RandomForestClassifier(n_estimators=100, max_depth=8, min_samples_split=5, oob_score=True)\n",
    "rf.fit(x_train, y_train)\n",
    "print u'OOB Score=%.5f' % rf.oob_score_\n",
    "y_train_pred = rf.predict(x_train)\n",
    "y_test_pred = rf.predict(x_test)\n",
    "print u'随机森林训练集准确率：', accuracy_score(y_train, y_train_pred)\n",
    "print u'随机森林测试集准确率：', accuracy_score(y_test, y_test_pred)\n"
   ]
  },
  {
   "cell_type": "code",
   "execution_count": 8,
   "metadata": {},
   "outputs": [
    {
     "name": "stdout",
     "output_type": "stream",
     "text": [
      "GBDT训练集准确率： 0.9904692082111437\n",
      "GBDT测试集准确率： 0.6747252747252748\n"
     ]
    }
   ],
   "source": [
    "gb = GradientBoostingClassifier(n_estimators=100, learning_rate=0.2, max_depth=6)\n",
    "gb.fit(x_train, y_train)\n",
    "y_train_pred = gb.predict(x_train)\n",
    "y_test_pred = gb.predict(x_test)\n",
    "print u'GBDT训练集准确率：', accuracy_score(y_train, y_train_pred)\n",
    "print u'GBDT测试集准确率：', accuracy_score(y_test, y_test_pred)"
   ]
  },
  {
   "cell_type": "code",
   "execution_count": 21,
   "metadata": {},
   "outputs": [
    {
     "name": "stdout",
     "output_type": "stream",
     "text": [
      "Training until validation scores don't improve for 100 rounds.\n",
      "[100]\tvalid's auc: 0.534281\n",
      "Early stopping, best iteration is:\n",
      "[45]\tvalid's auc: 0.544052\n",
      "lgb训练集准确率： 0.7082111436950147\n",
      "lgb测试集准确率： 0.7001569858712716\n"
     ]
    }
   ],
   "source": [
    "\n",
    "def lightGBM(train_x,train_y,validation_x,validation_y):\n",
    "    clf = lgb.lgb.LGBMClassifier(boosting_type='gbdt',\n",
    "                                 num_class=4, \n",
    "                                 num_leaves=55, \n",
    "                                 reg_alpha=0.0, \n",
    "                                 reg_lambda=1,\n",
    "                                 max_depth=12, \n",
    "                                 n_estimators=1000, \n",
    "                                 objective='multiclass',\n",
    "                                 subsample=0.8, \n",
    "                                 colsample_bytree=0.8, \n",
    "                                 subsample_freq=1,\n",
    "                                 learning_rate=0.01, \n",
    "                                 min_child_weight=1, \n",
    "                                 random_state=20, \n",
    "                                 n_jobs=4\n",
    "                                )\n",
    "    \n",
    "    # clf.fit(train_x, train_y, **fit_params)\n",
    "    clf.fit(train_x,\n",
    "    train_y,\n",
    "    early_stopping_rounds=100,\n",
    "    eval_metric= 'auc', \n",
    "            eval_set = [(validation_x,validation_y)],\n",
    "            eval_names = ['valid'],\n",
    "            verbose= 100\n",
    "    )\n",
    "         \n",
    "    return clf\n",
    "\n",
    "clf = lightGBM(x_train,y_train, x_test, y_test)\n",
    "y_train_pred = clf.predict(x_train)\n",
    "y_test_pred = clf.predict(x_test)\n",
    "print u'lgb训练集准确率：', accuracy_score(y_train, y_train_pred)\n",
    "print u'lgb测试集准确率：', accuracy_score(y_test, y_test_pred)\n",
    "# param_grid = {\n",
    "#     'learning_rate': [0.01, 0.1,0.2, 1],\n",
    "#     'n_estimators': [100, 400]\n",
    "# }\n",
    " \n",
    "# gscv = GridSearchCV(estimator, param_grid, cv = 3, scoring=\"neg_mean_squared_error\")\n",
    " \n",
    "# gscv.fit(X_train, y_train)\n",
    " \n",
    "# print('Best parameters found by grid search are:', gscv.best_params_)"
   ]
  },
  {
   "cell_type": "code",
   "execution_count": 39,
   "metadata": {},
   "outputs": [
    {
     "name": "stdout",
     "output_type": "stream",
     "text": [
      "(3185, 1) (3185, 1)\n",
      "(3185, 1)\n"
     ]
    }
   ],
   "source": [
    "y_test_pred = pd.DataFrame(y_test_pred)\n",
    "y_test = pd.DataFrame(y_test)\n",
    "\n",
    "print y_test_pred.shape,y_test.shape\n",
    "#\n",
    "right3 = y_test_pred[(y_test_pred[0]==2)]\n",
    "print right3.shape"
   ]
  }
 ],
 "metadata": {
  "kernelspec": {
   "display_name": "Python 2",
   "language": "python",
   "name": "python2"
  },
  "language_info": {
   "codemirror_mode": {
    "name": "ipython",
    "version": 2
   },
   "file_extension": ".py",
   "mimetype": "text/x-python",
   "name": "python",
   "nbconvert_exporter": "python",
   "pygments_lexer": "ipython2",
   "version": "2.7.15"
  }
 },
 "nbformat": 4,
 "nbformat_minor": 2
}
