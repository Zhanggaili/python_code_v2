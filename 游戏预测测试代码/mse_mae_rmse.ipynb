{
 "cells": [
  {
   "cell_type": "code",
   "execution_count": null,
   "metadata": {},
   "outputs": [],
   "source": [
    "from math import sqrt\n",
    "\n",
    "target = [1.5, 2.1, 3.3, -4.7, -2.3, 0.75]\n",
    "prediction = [0.5, 1.5, 2.1, -2.2, 0.1, -0.5]\n",
    " \n",
    "error = []\n",
    "for i in range(len(target)):\n",
    "    error.append(target[i] - prediction[i])\n",
    "\n",
    "squaredError = []\n",
    "absError = []\n",
    "for val in error:\n",
    "    squaredError.append(val * val)#target-prediction之差平方 \n",
    "    absError.append(abs(val))#误差绝对值\n",
    "\n",
    "# print(\"Errors: \", error)\n",
    "# print(error)\n",
    "print(\"Square Error: \", squaredError)\n",
    "print(\"Absolute Value of Error: \", absError)\n",
    " \n",
    "print(\"MSE = \", sum(squaredError) / len(squaredError))#均方误差MSE\n",
    "\n",
    "print(\"RMSE = \", sqrt(sum(squaredError) / len(squaredError)))#均方根误差RMSE\n",
    "print(\"MAE = \", sum(absError) / len(absError))#平均绝对误差MAE\n",
    " \n",
    "targetDeviation = []\n",
    "targetMean = sum(target) / len(target)#target平均值\n",
    "for val in target:\n",
    "    targetDeviation.append((val - targetMean) * (val - targetMean))\n",
    "print(\"Target Variance = \", sum(targetDeviation) / len(targetDeviation))#方差\n",
    "print(\"Target Standard Deviation = \", sqrt(sum(targetDeviation) / len(targetDeviation)))#标准差"
   ]
  },
  {
   "cell_type": "code",
   "execution_count": 1,
   "metadata": {},
   "outputs": [
    {
     "name": "stdout",
     "output_type": "stream",
     "text": [
      "2.72875 1.49166666667 1.65189285367\n"
     ]
    }
   ],
   "source": [
    "from math import sqrt\n",
    "\n",
    "def mse_mae_rmse(target, prediction):\n",
    "    error = []\n",
    "    for i in range(len(target)):\n",
    "        error.append(target[i] - prediction[i])\n",
    "\n",
    "    squaredError = []\n",
    "    absError = []\n",
    "    for val in error:\n",
    "        squaredError.append(val * val)#target-prediction之差平方 \n",
    "        absError.append(abs(val))#误差绝对值\n",
    "\n",
    "    MSE = sum(squaredError) / len(squaredError)\n",
    "    RMSE = sqrt(sum(squaredError) / len(squaredError))\n",
    "    MAE =  sum(absError) / len(absError)\n",
    "    return MSE, MAE, RMSE\n",
    "\n",
    "target1 = [1.5, 2.1, 3.3, -4.7, -2.3, 0.75]\n",
    "prediction1 = [0.5, 1.5, 2.1, -2.2, 0.1, -0.5]\n",
    "mse, mae, rmse = mse_mae_rmse(target1, prediction1)\n",
    "print mse, mae, rmse"
   ]
  },
  {
   "cell_type": "code",
   "execution_count": null,
   "metadata": {},
   "outputs": [],
   "source": [
    "pair = [[0,1],[1,11],[11,17],[17,23],[23,33],[33,43],[43,49],[49,71],\n",
    "        [71,85],[85,98],[98,104],[104,107]]\n",
    "for i in range(len(pair)):\n",
    "    print range(pair[i][0],pair[i][1])\n",
    "    print x_prime_train.iloc[0:,range(pair[i][0],pair[i][1])].columns"
   ]
  },
  {
   "cell_type": "code",
   "execution_count": null,
   "metadata": {},
   "outputs": [],
   "source": [
    "import numpy as np\n",
    "import pandas as pd\n",
    "from sklearn.tree import DecisionTreeClassifier\n",
    "from sklearn.metrics import accuracy_score\n",
    "from sklearn.model_selection import train_test_split\n",
    "\n",
    "all=pd.read_csv('youziyuan_0719.csv')\n",
    "data = all.iloc[0:,1:]\n",
    "x_prime = data.iloc[0:,0:len(data.columns)-1] #去掉y列，所以len-1\n",
    "y = data.iloc[0:,len(data.columns)-1:]\n",
    "x_prime_train, x_prime_test, y_train, y_test = train_test_split(x_prime, y, train_size=0.7, random_state=0)\n",
    "\n",
    "pair = \n",
    "\n",
    "for p in range(len(pair)):\n",
    "    # 准备数据\n",
    "#     x_train = x_prime_train.iloc[0:,range(p)+range(p+1,len(data.columns)-2)]#去掉y列之外再去掉一列特征，所以len-2\n",
    "#     x_test = x_prime_test.iloc[0:,range(p)+range(p+1,len(data.columns)-2)]\n",
    "    x_train = x_prime_train.iloc[0:,range(pair[p][0],pair[p][1])]#去掉y列之外再去掉一列特征，所以len-2\n",
    "    x_test = x_prime_test.iloc[0:,range(pair[p][0],pair[p][1])]\n",
    "\n",
    "    # 决策树学习\n",
    "    model = DecisionTreeClassifier(criterion='entropy', min_samples_leaf=3)\n",
    "    model.fit(x_train, y_train.astype('int'))\n",
    "\n",
    "    # 训练集上的预测结果\n",
    "    y_train_pred = model.predict(x_train)\n",
    "    acc_train = accuracy_score(y_train.astype('int'), y_train_pred)\n",
    "    y_test_pred = model.predict(x_test)"
   ]
  }
 ],
 "metadata": {
  "kernelspec": {
   "display_name": "Python 2",
   "language": "python",
   "name": "python2"
  },
  "language_info": {
   "codemirror_mode": {
    "name": "ipython",
    "version": 2
   },
   "file_extension": ".py",
   "mimetype": "text/x-python",
   "name": "python",
   "nbconvert_exporter": "python",
   "pygments_lexer": "ipython2",
   "version": "2.7.15"
  }
 },
 "nbformat": 4,
 "nbformat_minor": 2
}
