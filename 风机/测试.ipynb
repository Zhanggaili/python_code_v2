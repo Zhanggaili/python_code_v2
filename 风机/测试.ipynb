{
 "cells": [
  {
   "cell_type": "code",
   "execution_count": 30,
   "metadata": {
    "scrolled": true
   },
   "outputs": [
    {
     "name": "stdout",
     "output_type": "stream",
     "text": [
      "reading file\n",
      "       fengsu  fengsu_dif\n",
      "0  321.775947         9.1\n",
      "df:        fengsu  fengsu_dif\n",
      "0  321.775947         9.1\n",
      "1\n",
      "       fengsu  fengsu_dif\n",
      "0  269.260889         4.9\n",
      "df:        fengsu  fengsu_dif\n",
      "0  269.260889         4.9\n",
      "2\n",
      "保存成功\n"
     ]
    }
   ],
   "source": [
    "# -*- coding: utf-8 -*-\n",
    "# @Date     :2018/7/14 10:19\n",
    "# @Author   :cq_yang\n",
    "# @:Describe:合并所有  文件到一个csv\n",
    "\n",
    "import os\n",
    "import pandas as pd\n",
    "import numpy as np\n",
    "\n",
    "common_path = r\"../\"\n",
    "# input\n",
    "train_read_path = \"123mean_train/\"\n",
    "test_read_path = \"123mean_test/\"\n",
    "train_list_path = \"train_labels.csv\"\n",
    "test_list_path = \"submit_example .csv\"\n",
    "# output\n",
    "train_path = \"cankao/train.csv\"\n",
    "test_path = \"cankao/test.csv\"\n",
    "\n",
    "\n",
    "def read_file(other_path, save_path):\n",
    "    list_df = pd.read_csv(other_path)\n",
    "    new_df = pd.DataFrame()\n",
    "    i=0\n",
    "    list_df = list_df.iloc[:2,:]\n",
    "    for file in list_df[\"file_name\"]:\n",
    "        df = pd.read_csv(train_read_path+file)\n",
    "        df = feature(df)\n",
    "        print 'df:',df\n",
    "#         print ''\n",
    "#         print file\n",
    "        df[\"file_name\"] = file\n",
    "#         print 'df:',df\n",
    "        if new_df.empty:\n",
    "#             print '表%s为空'%file\n",
    "            new_df = df\n",
    "        else:\n",
    "            new_df = pd.concat([new_df, df], ignore_index=True)\n",
    "        i += 1\n",
    "        print(i)\n",
    "    new_df.to_csv(save_path, encoding=\"utf_8\", index=False)\n",
    "    print(\"保存成功\")\n",
    "\n",
    "\n",
    "def feature(df):\n",
    "    new_df = pd.DataFrame()\n",
    "    # new_df[\"row\"] = pd.DataFrame([df.shape[0]])\n",
    "    mean = df[\"机舱气象站风速\"].mean()\n",
    "    fengsu = []\n",
    "    fengsu.append((abs(df[\"机舱气象站风速\"] - mean)).sum())\n",
    "    new_df[\"fengsu\"] = fengsu#(abs(df[\"机舱气象站风速\"] - mean)).sum()\n",
    "    new_df[\"fengsu_dif\"] = np.max(df[\"机舱气象站风速\"]) - np.min(df[\"机舱气象站风速\"])\n",
    "    return new_df\n",
    "\n",
    "\n",
    "if __name__ == '__main__':\n",
    "    print(\"reading file\")\n",
    "    read_file(train_list_path, train_path)\n",
    "    #read_file( test_list_path, test_path)\n"
   ]
  },
  {
   "cell_type": "code",
   "execution_count": null,
   "metadata": {},
   "outputs": [],
   "source": []
  }
 ],
 "metadata": {
  "kernelspec": {
   "display_name": "Python 2",
   "language": "python",
   "name": "python2"
  },
  "language_info": {
   "codemirror_mode": {
    "name": "ipython",
    "version": 2
   },
   "file_extension": ".py",
   "mimetype": "text/x-python",
   "name": "python",
   "nbconvert_exporter": "python",
   "pygments_lexer": "ipython2",
   "version": "2.7.15"
  }
 },
 "nbformat": 4,
 "nbformat_minor": 2
}
