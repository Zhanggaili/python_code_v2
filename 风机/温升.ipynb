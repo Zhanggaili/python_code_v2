{
 "cells": [
  {
   "cell_type": "code",
   "execution_count": 1,
   "metadata": {},
   "outputs": [
    {
     "name": "stdout",
     "output_type": "stream",
     "text": [
      "(48339, 153) Index([u'f_id', u'file_name', u'轮毂转速_median', u'轮毂角度_median',\n",
      "       u'超速传感器转速检测值_median', u'5秒偏航对风平均值_median', u'x方向振动值_median',\n",
      "       u'y方向振动值_median', u'液压制动压力_median', u'机舱气象站风速_median',\n",
      "       ...\n",
      "       u'发电机空气温度_quantile90', u'主轴承温度_quantile90', u'变桨电机功率估算_quantile90',\n",
      "       u'叶片电池箱温度_quantile90', u'叶片变桨电机温度_quantile90', u'叶片变频器箱温度_quantile90',\n",
      "       u'叶片超级电容电压_quantile90', u'驱动晶闸管温度_quantile90', u'驱动输出扭矩_quantile90',\n",
      "       u'ret'],\n",
      "      dtype='object', length=153)\n"
     ]
    }
   ],
   "source": [
    "import pandas as pd\n",
    "\n",
    "all_=pd.read_csv(\"all_0820_10_50_90.csv\")\n",
    "print all_.shape,all_.columns\n",
    "\n",
    "len_ = len(all_.columns)\n",
    "\n",
    "# all.to_csv(\"tezheng\\\\xy_std_skew_count95.csv\",index=None)"
   ]
  },
  {
   "cell_type": "code",
   "execution_count": 38,
   "metadata": {},
   "outputs": [
    {
     "ename": "SyntaxError",
     "evalue": "EOL while scanning string literal (<ipython-input-38-0f7b13610b97>, line 3)",
     "output_type": "error",
     "traceback": [
      "\u001b[1;36m  File \u001b[1;32m\"<ipython-input-38-0f7b13610b97>\"\u001b[1;36m, line \u001b[1;32m3\u001b[0m\n\u001b[1;33m    u'all_.columns[22]\u001b[0m\n\u001b[1;37m                     ^\u001b[0m\n\u001b[1;31mSyntaxError\u001b[0m\u001b[1;31m:\u001b[0m EOL while scanning string literal\n"
     ]
    }
   ],
   "source": [
    "# all__ = all_.drop([all_.columns[1],all_.columns[50]],axis=1)\n",
    "# all__.shape,all_.shape\n",
    "'变频器入口温度',\n",
    "'变频器出口温度',\n",
    "'发电机定子温度',\n",
    "'发电机空气温度',\n",
    "'主轴承温度',\n",
    "'叶片电池箱温度',\n",
    "'叶片变桨电机温度',\n",
    "'叶片变频器箱温度',\n",
    "'驱动晶闸管温度',\n",
    "'测风塔环境温度',\n",
    "'轮毂温度',\n",
    "'轮毂控制柜温度',\n",
    "'机舱温度',\n",
    "'机舱控制柜温度',\n",
    "'变频器INU温度',\n",
    "'变频器ISU温度',\n",
    "'变频器INU_RMIO温度'\n"
   ]
  },
  {
   "cell_type": "code",
   "execution_count": 58,
   "metadata": {},
   "outputs": [],
   "source": [
    "cha = all_.iloc[:,:2]\n",
    "cha['变频器入口温升'] = all_['变频器入口温度_quantile90']-all_['变频器入口温度_quantile10']\n",
    "cha['变频器出口温度'] = all_['变频器出口温度_quantile90']-all_['变频器出口温度_quantile10']\n",
    "cha['发电机定子温度'] = all_['发电机定子温度_quantile90']-all_['发电机定子温度_quantile10']\n",
    "cha['发电机空气温度'] = all_['发电机空气温度_quantile90']-all_['发电机空气温度_quantile10']\n",
    "cha['主轴承温度'] = all_['主轴承温度_quantile90']-all_['主轴承温度_quantile10']\n",
    "cha['叶片电池箱温度'] = all_['叶片电池箱温度_quantile90']-all_['叶片电池箱温度_quantile10']\n",
    "cha['叶片变桨电机温度'] = all_['叶片变桨电机温度_quantile90']-all_['叶片变桨电机温度_quantile10']\n",
    "cha['叶片变频器箱温度'] = all_['叶片变频器箱温度_quantile90']-all_['变频器入口温度_quantile10']\n",
    "cha['驱动晶闸管温度'] = all_['驱动晶闸管温度_quantile90']-all_['驱动晶闸管温度_quantile10']\n",
    "cha['测风塔环境温度'] = all_['测风塔环境温度_quantile90']-all_['测风塔环境温度_quantile10']\n",
    "cha['轮毂温度'] = all_['轮毂温度_quantile90']-all_['轮毂温度_quantile10']\n",
    "cha['轮毂控制柜温度'] = all_['轮毂控制柜温度_quantile90']-all_['轮毂控制柜温度_quantile10']\n",
    "cha['机舱温度'] = all_['机舱温度_quantile90']-all_['机舱温度_quantile10']\n",
    "cha['机舱控制柜温度'] = all_['机舱控制柜温度_quantile90']-all_['机舱控制柜温度_quantile10']\n",
    "cha['变频器INU温度'] = all_['变频器INU温度_quantile90']-all_['变频器INU温度_quantile10']\n",
    "cha['变频器ISU温度'] = all_['变频器ISU温度_quantile90']-all_['变频器ISU温度_quantile10']\n",
    "\n",
    "# cha['ret'] = all_['ret']\n",
    "# cha.to_csv(\"test_wensheng_0820.csv\",index=None)\n",
    "#     if cha_10_90.mean() <= 0.1:\n",
    "#         all_ = all_.drop([all_.columns[i],all_.columns[i+50],all_.columns[i+100]],axis=1)\n",
    "# all_.to_csv(\"all_v2_0820_10_50_90.csv\",index=None)\n",
    "# all_.shape"
   ]
  },
  {
   "cell_type": "code",
   "execution_count": 23,
   "metadata": {},
   "outputs": [
    {
     "data": {
      "text/plain": [
       "3.9999999999999964"
      ]
     },
     "execution_count": 23,
     "metadata": {},
     "output_type": "execute_result"
    }
   ],
   "source": [
    "cha_0 = cha[ cha.ret==0 ]\n",
    "cha_0[cha_0.columns[2]].quantile(.90)"
   ]
  },
  {
   "cell_type": "code",
   "execution_count": 68,
   "metadata": {},
   "outputs": [
    {
     "name": "stdout",
     "output_type": "stream",
     "text": [
      "全部90分位以上温升 ret=0的90分位以上温升\n",
      "(24521, 18) (12211, 19) 12310\n",
      "(24134, 18) (12216, 19) 11918\n",
      "(24655, 18) (12343, 19) 12312\n",
      "(23729, 18) (11952, 19) 11777\n",
      "(22046, 18) (11600, 19) 10446\n",
      "(16985, 18) (8491, 19) 8494\n",
      "(17960, 18) (11343, 19) 6617\n",
      "(22843, 18) (12342, 19) 10501\n",
      "(23216, 18) (11918, 19) 11298\n",
      "(21949, 18) (10856, 19) 11093\n",
      "(5025, 18) (2568, 19) 2457\n",
      "(22069, 18) (10924, 19) 11145\n",
      "(21083, 18) (10813, 19) 10270\n",
      "(18809, 18) (9795, 19) 9014\n",
      "(15154, 18) (7426, 19) 7728\n",
      "(14580, 18) (7073, 19) 7507\n"
     ]
    }
   ],
   "source": [
    "print '全部90分位以上温升','ret=0的90分位以上温升'\n",
    "for j in range(2,18):\n",
    "    cha_1 = cha[cha[cha.columns[j]] > cha_0[cha_0.columns[j]].quantile(.50) ]\n",
    "    cha_2 = cha_0[cha_0[cha_0.columns[j]] > cha_0[cha_0.columns[j]].quantile(.50) ]\n",
    "    print cha_1.shape,cha_2.shape,cha_1.shape[0]-cha_2.shape[0]    \n",
    "# print cha_0[cha_0.columns[8]].quantile(.90),cha_0.columns[8]"
   ]
  },
  {
   "cell_type": "code",
   "execution_count": 56,
   "metadata": {},
   "outputs": [
    {
     "data": {
      "text/plain": [
       "(48339, 3)"
      ]
     },
     "execution_count": 56,
     "metadata": {},
     "output_type": "execute_result"
    }
   ],
   "source": [
    "cha3 = cha.iloc[:,:2]\n",
    "cha3['叶片变桨电机温度'] = cha['叶片变桨电机温度']\n",
    "cha3.shape"
   ]
  },
  {
   "cell_type": "code",
   "execution_count": null,
   "metadata": {},
   "outputs": [],
   "source": [
    "'变频器电网侧电流',\n",
    "'变频器电网侧电压',\n",
    "'变频器电网侧有功功率',\n",
    "'变频器电网侧无功功率',\n",
    "'变频器发电机侧功率',\n",
    "'发电机电流',\n",
    "'发电机功率限幅值',\n",
    "'无功功率设定值',\n",
    "'叶片角度',\n",
    "'变桨电机电流',\n",
    "'变桨电机功率估算',\n",
    "'叶片超级电容电压'"
   ]
  },
  {
   "cell_type": "code",
   "execution_count": 11,
   "metadata": {},
   "outputs": [
    {
     "name": "stdout",
     "output_type": "stream",
     "text": [
      "全部90分位以上温升 ret=0的90分位以上温升\n",
      "(2591, 14) (1234, 14) 1357\n",
      "(1654, 14) (857, 14) 797\n",
      "(2618, 14) (1234, 14) 1384\n",
      "(1831, 14) (736, 14) 1095\n",
      "(2627, 14) (1235, 14) 1392\n",
      "(2403, 14) (1235, 14) 1168\n",
      "(2654, 14) (1234, 14) 1420\n",
      "(45, 14) (17, 14) 28\n",
      "(2579, 14) (1229, 14) 1350\n",
      "(2607, 14) (1231, 14) 1376\n",
      "(2346, 14) (1112, 14) 1234\n"
     ]
    },
    {
     "ename": "IndexError",
     "evalue": "index 14 is out of bounds for axis 0 with size 14",
     "output_type": "error",
     "traceback": [
      "\u001b[1;31m---------------------------------------------------------------------------\u001b[0m",
      "\u001b[1;31mIndexError\u001b[0m                                Traceback (most recent call last)",
      "\u001b[1;32m<ipython-input-11-43c7dbf8ab8c>\u001b[0m in \u001b[0;36m<module>\u001b[1;34m()\u001b[0m\n\u001b[0;32m     17\u001b[0m \u001b[1;32mprint\u001b[0m \u001b[1;34m'全部90分位以上温升'\u001b[0m\u001b[1;33m,\u001b[0m\u001b[1;34m'ret=0的90分位以上温升'\u001b[0m\u001b[1;33m\u001b[0m\u001b[0m\n\u001b[0;32m     18\u001b[0m \u001b[1;32mfor\u001b[0m \u001b[0mj\u001b[0m \u001b[1;32min\u001b[0m \u001b[0mrange\u001b[0m\u001b[1;33m(\u001b[0m\u001b[1;36m3\u001b[0m\u001b[1;33m,\u001b[0m\u001b[1;36m15\u001b[0m\u001b[1;33m)\u001b[0m\u001b[1;33m:\u001b[0m\u001b[1;33m\u001b[0m\u001b[0m\n\u001b[1;32m---> 19\u001b[1;33m     \u001b[0mcha_1\u001b[0m \u001b[1;33m=\u001b[0m \u001b[0mcha\u001b[0m\u001b[1;33m[\u001b[0m\u001b[0mcha\u001b[0m\u001b[1;33m[\u001b[0m\u001b[0mcha\u001b[0m\u001b[1;33m.\u001b[0m\u001b[0mcolumns\u001b[0m\u001b[1;33m[\u001b[0m\u001b[0mj\u001b[0m\u001b[1;33m]\u001b[0m\u001b[1;33m]\u001b[0m \u001b[1;33m>\u001b[0m \u001b[0mcha_0\u001b[0m\u001b[1;33m[\u001b[0m\u001b[0mcha_0\u001b[0m\u001b[1;33m.\u001b[0m\u001b[0mcolumns\u001b[0m\u001b[1;33m[\u001b[0m\u001b[0mj\u001b[0m\u001b[1;33m]\u001b[0m\u001b[1;33m]\u001b[0m\u001b[1;33m.\u001b[0m\u001b[0mquantile\u001b[0m\u001b[1;33m(\u001b[0m\u001b[1;36m.95\u001b[0m\u001b[1;33m)\u001b[0m \u001b[1;33m]\u001b[0m\u001b[1;33m\u001b[0m\u001b[0m\n\u001b[0m\u001b[0;32m     20\u001b[0m     \u001b[0mcha_2\u001b[0m \u001b[1;33m=\u001b[0m \u001b[0mcha_0\u001b[0m\u001b[1;33m[\u001b[0m\u001b[0mcha_0\u001b[0m\u001b[1;33m[\u001b[0m\u001b[0mcha_0\u001b[0m\u001b[1;33m.\u001b[0m\u001b[0mcolumns\u001b[0m\u001b[1;33m[\u001b[0m\u001b[0mj\u001b[0m\u001b[1;33m]\u001b[0m\u001b[1;33m]\u001b[0m \u001b[1;33m>\u001b[0m \u001b[0mcha_0\u001b[0m\u001b[1;33m[\u001b[0m\u001b[0mcha_0\u001b[0m\u001b[1;33m.\u001b[0m\u001b[0mcolumns\u001b[0m\u001b[1;33m[\u001b[0m\u001b[0mj\u001b[0m\u001b[1;33m]\u001b[0m\u001b[1;33m]\u001b[0m\u001b[1;33m.\u001b[0m\u001b[0mquantile\u001b[0m\u001b[1;33m(\u001b[0m\u001b[1;36m.95\u001b[0m\u001b[1;33m)\u001b[0m \u001b[1;33m]\u001b[0m\u001b[1;33m\u001b[0m\u001b[0m\n\u001b[0;32m     21\u001b[0m     \u001b[1;32mprint\u001b[0m \u001b[0mcha_1\u001b[0m\u001b[1;33m.\u001b[0m\u001b[0mshape\u001b[0m\u001b[1;33m,\u001b[0m\u001b[0mcha_2\u001b[0m\u001b[1;33m.\u001b[0m\u001b[0mshape\u001b[0m\u001b[1;33m,\u001b[0m\u001b[0mcha_1\u001b[0m\u001b[1;33m.\u001b[0m\u001b[0mshape\u001b[0m\u001b[1;33m[\u001b[0m\u001b[1;36m0\u001b[0m\u001b[1;33m]\u001b[0m\u001b[1;33m-\u001b[0m\u001b[0mcha_2\u001b[0m\u001b[1;33m.\u001b[0m\u001b[0mshape\u001b[0m\u001b[1;33m[\u001b[0m\u001b[1;36m0\u001b[0m\u001b[1;33m]\u001b[0m\u001b[1;33m\u001b[0m\u001b[0m\n",
      "\u001b[1;32mF:\\zhangzhenhua\\anaconda2.7\\lib\\site-packages\\pandas\\core\\indexes\\base.pyc\u001b[0m in \u001b[0;36m__getitem__\u001b[1;34m(self, key)\u001b[0m\n\u001b[0;32m   2067\u001b[0m \u001b[1;33m\u001b[0m\u001b[0m\n\u001b[0;32m   2068\u001b[0m         \u001b[1;32mif\u001b[0m \u001b[0mis_scalar\u001b[0m\u001b[1;33m(\u001b[0m\u001b[0mkey\u001b[0m\u001b[1;33m)\u001b[0m\u001b[1;33m:\u001b[0m\u001b[1;33m\u001b[0m\u001b[0m\n\u001b[1;32m-> 2069\u001b[1;33m             \u001b[1;32mreturn\u001b[0m \u001b[0mgetitem\u001b[0m\u001b[1;33m(\u001b[0m\u001b[0mkey\u001b[0m\u001b[1;33m)\u001b[0m\u001b[1;33m\u001b[0m\u001b[0m\n\u001b[0m\u001b[0;32m   2070\u001b[0m \u001b[1;33m\u001b[0m\u001b[0m\n\u001b[0;32m   2071\u001b[0m         \u001b[1;32mif\u001b[0m \u001b[0misinstance\u001b[0m\u001b[1;33m(\u001b[0m\u001b[0mkey\u001b[0m\u001b[1;33m,\u001b[0m \u001b[0mslice\u001b[0m\u001b[1;33m)\u001b[0m\u001b[1;33m:\u001b[0m\u001b[1;33m\u001b[0m\u001b[0m\n",
      "\u001b[1;31mIndexError\u001b[0m: index 14 is out of bounds for axis 0 with size 14"
     ]
    }
   ],
   "source": [
    "cha = all_.iloc[:,:2]\n",
    "cha['ret'] = all_['ret']\n",
    "cha['变频器电网侧电流'] = all_['变频器电网侧电流_quantile90']-all_['变频器电网侧电流_quantile10']\n",
    "cha['变频器电网侧电压'] = all_['变频器电网侧电压_quantile90']-all_['变频器电网侧电压_quantile10']\n",
    "cha['变频器电网侧有功功率'] = all_['变频器电网侧有功功率_quantile90']-all_['变频器电网侧有功功率_quantile10']\n",
    "cha['变频器电网侧无功功率'] = all_['变频器电网侧无功功率_quantile90']-all_['变频器电网侧无功功率_quantile10']\n",
    "cha['变频器发电机侧功率'] = all_['变频器发电机侧功率_quantile90']-all_['变频器发电机侧功率_quantile10']\n",
    "cha['发电机电流'] = all_['发电机电流_quantile90']-all_['发电机电流_quantile10']\n",
    "cha['发电机功率限幅值'] = all_['发电机功率限幅值_quantile90']-all_['发电机功率限幅值_quantile10']\n",
    "cha['无功功率设定值'] = all_['无功功率设定值_quantile90']-all_['无功功率设定值_quantile10']\n",
    "# cha['叶片角度'] = all_['叶片角度_quantile90']-all_['叶片角度_quantile10']\n",
    "cha['变桨电机电流'] = all_['变桨电机电流_quantile90']-all_['变桨电机电流_quantile10']\n",
    "cha['变桨电机功率估算'] = all_['变桨电机功率估算_quantile90']-all_['变桨电机功率估算_quantile10']\n",
    "cha['叶片超级电容电压'] = all_['叶片超级电容电压_quantile90']-all_['叶片超级电容电压_quantile10']\n",
    "cha_0 = cha[ cha.ret==0 ]\n",
    "cha.to_csv(\"dian_0820.csv\",index=None)\n",
    "print '全部90分位以上温升','ret=0的90分位以上温升'\n",
    "for j in range(3,15):\n",
    "    cha_1 = cha[cha[cha.columns[j]] > cha_0[cha_0.columns[j]].quantile(.95) ]\n",
    "    cha_2 = cha_0[cha_0[cha_0.columns[j]] > cha_0[cha_0.columns[j]].quantile(.95) ]\n",
    "    print cha_1.shape,cha_2.shape,cha_1.shape[0]-cha_2.shape[0]    \n",
    "# cha_0.shape,cha.shape"
   ]
  },
  {
   "cell_type": "code",
   "execution_count": 10,
   "metadata": {},
   "outputs": [
    {
     "name": "stdout",
     "output_type": "stream",
     "text": [
      "(24438, 15) (12343, 15) 12095\n",
      "(25688, 15) (12012, 15) 13676\n",
      "(24690, 15) (12343, 15) 12347\n",
      "(10997, 15) (5371, 15) 5626\n",
      "(24607, 15) (12328, 15) 12279\n",
      "(25197, 15) (12343, 15) 12854\n",
      "(5761, 15) (2239, 15) 3522\n",
      "(17, 15) (5, 15) 12\n",
      "(25662, 15) (12290, 15) 13372\n",
      "(23573, 15) (11881, 15) 11692\n",
      "(10576, 15) (5322, 15) 5254\n",
      "(23386, 15) (11945, 15) 11441\n"
     ]
    }
   ],
   "source": [
    "cha = all_.iloc[:,:2]\n",
    "cha['ret'] = all_['ret']\n",
    "cha['变频器电网侧电流'] = all_['变频器电网侧电流_quantile90']\n",
    "cha['变频器电网侧电压'] = all_['变频器电网侧电压_quantile90']\n",
    "cha['变频器电网侧有功功率'] = all_['变频器电网侧有功功率_quantile90']\n",
    "cha['变频器电网侧无功功率'] = all_['变频器电网侧无功功率_quantile90']\n",
    "cha['变频器发电机侧功率'] = all_['变频器发电机侧功率_quantile90']\n",
    "cha['发电机电流'] = all_['发电机电流_quantile90']\n",
    "cha['发电机功率限幅值'] = all_['发电机功率限幅值_quantile90']\n",
    "cha['无功功率设定值'] = all_['无功功率设定值_quantile90']\n",
    "cha['叶片角度'] = all_['叶片角度_quantile90']\n",
    "cha['变桨电机电流'] = all_['变桨电机电流_quantile90']\n",
    "cha['变桨电机功率估算'] = all_['变桨电机功率估算_quantile90']\n",
    "cha['叶片超级电容电压'] = all_['叶片超级电容电压_quantile90']\n",
    "cha_0 = cha[ cha.ret==0 ]\n",
    "for j in range(3,15):\n",
    "    cha_1 = cha[cha[cha.columns[j]] > cha_0[cha_0.columns[j]].quantile(.50) ]\n",
    "    cha_2 = cha_0[cha_0[cha_0.columns[j]] > cha_0[cha_0.columns[j]].quantile(.50) ]\n",
    "    print cha_1.shape,cha_2.shape,cha_1.shape[0]-cha_2.shape[0]    "
   ]
  }
 ],
 "metadata": {
  "kernelspec": {
   "display_name": "Python 2",
   "language": "python",
   "name": "python2"
  },
  "language_info": {
   "codemirror_mode": {
    "name": "ipython",
    "version": 2
   },
   "file_extension": ".py",
   "mimetype": "text/x-python",
   "name": "python",
   "nbconvert_exporter": "python",
   "pygments_lexer": "ipython2",
   "version": "2.7.15"
  }
 },
 "nbformat": 4,
 "nbformat_minor": 2
}
